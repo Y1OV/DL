{
 "cells": [
  {
   "cell_type": "markdown",
   "id": "4d097d1f",
   "metadata": {},
   "source": [
    "# Всем привет!"
   ]
  },
  {
   "cell_type": "markdown",
   "id": "7d20cdb5",
   "metadata": {},
   "source": [
    "По ноутбуку можно найти много markdown-ов, так что смотрим внимательнее!"
   ]
  },
  {
   "cell_type": "code",
   "execution_count": 115,
   "id": "b6aa6129",
   "metadata": {},
   "outputs": [],
   "source": [
    "import pandas as pd\n",
    "import warnings\n",
    "from sklearn.preprocessing import OneHotEncoder, LabelEncoder\n",
    "warnings.filterwarnings(\"ignore\")"
   ]
  },
  {
   "cell_type": "code",
   "execution_count": 116,
   "id": "54a82b91",
   "metadata": {},
   "outputs": [],
   "source": [
    "import torch\n",
    "import torch.nn as nn\n",
    "import torch.optim as optim\n",
    "from torch.utils.data import Dataset, DataLoader\n",
    "from sklearn.model_selection import train_test_split\n",
    "from sklearn.metrics import roc_auc_score\n",
    "import numpy as np\n",
    "import pandas as pd\n",
    "from sklearn.model_selection import train_test_split\n",
    "from catboost import CatBoostClassifier, Pool\n",
    "from sklearn.metrics import roc_auc_score\n",
    "import matplotlib.pyplot as plt\n",
    "import pyarrow.parquet as pq\n",
    "from torch.utils.data import Dataset, TensorDataset\n",
    "from sklearn import preprocessing\n",
    "import torch\n",
    "import torchvision\n",
    "\n",
    "import torch.nn as nn\n",
    "import torch.nn.functional as F\n",
    "import torch.optim as optim\n",
    "\n",
    "from torchvision import transforms as T\n",
    "\n",
    "from sklearn.preprocessing import LabelEncoder, QuantileTransformer, FunctionTransformer, StandardScaler\n",
    "from sklearn.pipeline import Pipeline, make_pipeline\n",
    "from sklearn.compose import ColumnTransformer, make_column_transformer, TransformedTargetRegressor\n",
    "from sklearn.preprocessing import MinMaxScaler, PolynomialFeatures, StandardScaler, OneHotEncoder, RobustScaler\n",
    "from category_encoders import TargetEncoder\n",
    "from sklearn.impute import SimpleImputer\n"
   ]
  },
  {
   "cell_type": "code",
   "execution_count": 211,
   "id": "dafadfe7",
   "metadata": {},
   "outputs": [],
   "source": [
    "df = pd.read_csv('train.csv', sep=';',parse_dates=['f1'])\n",
    "macro = pd.read_csv('macro.csv',parse_dates=['timestamp'])\n",
    "df_test = pd.read_csv('test.csv', sep=';', parse_dates=['f1'])"
   ]
  },
  {
   "cell_type": "code",
   "execution_count": 212,
   "id": "09029f3e",
   "metadata": {},
   "outputs": [],
   "source": [
    "df.drop_duplicates(inplace = True)"
   ]
  },
  {
   "cell_type": "code",
   "execution_count": 213,
   "id": "768edb20",
   "metadata": {},
   "outputs": [],
   "source": [
    "df.dropna(how='all', inplace=True)"
   ]
  },
  {
   "cell_type": "markdown",
   "id": "4aa09dad",
   "metadata": {},
   "source": [
    "# Выбор моделей, архитектуры сетки, препроцессинг и т. д."
   ]
  },
  {
   "cell_type": "markdown",
   "id": "635cc0a4",
   "metadata": {},
   "source": [
    "#### `Киллер-фича` №1"
   ]
  },
  {
   "cell_type": "markdown",
   "id": "ef37c73d",
   "metadata": {},
   "source": [
    "На просторах интернета можно нарыть много всего интересного, например датасет [macro](https://github.com/catherinehata/Sberbank-Russian-Housing-Market/blob/master/macro.csv).\n",
    "Как я понял наши данные вроде как с [этого](https://www.kaggle.com/competitions/sberbank-russian-housing-market/overview) соревнования, всячиски перемешанные + какие-то новые и т. д. Как раз там и можно было найти найти `macro` и другие интересные штуки\n"
   ]
  },
  {
   "cell_type": "markdown",
   "id": "d8ae52d9",
   "metadata": {},
   "source": [
    "macro.csv: data on Russia's macroeconomy and financial sector (could be joined to the train and test sets on the \"timestamp\" column)"
   ]
  },
  {
   "cell_type": "markdown",
   "id": "d2a525d6",
   "metadata": {},
   "source": [
    "Почему бы этим не воспользоваться?"
   ]
  },
  {
   "cell_type": "code",
   "execution_count": 214,
   "id": "4de4c200",
   "metadata": {},
   "outputs": [
    {
     "data": {
      "text/plain": [
       "['child_on_acc_pre_school',\n",
       " 'modern_education_share',\n",
       " 'old_education_build_share']"
      ]
     },
     "execution_count": 214,
     "metadata": {},
     "output_type": "execute_result"
    }
   ],
   "source": [
    "column_types = macro.dtypes\n",
    "categorical_columns = column_types[column_types == 'object'].index.tolist()\n",
    "categorical_columns"
   ]
  },
  {
   "cell_type": "code",
   "execution_count": 215,
   "id": "c3a11e19",
   "metadata": {},
   "outputs": [],
   "source": [
    "macro = macro.drop(categorical_columns, axis=1)"
   ]
  },
  {
   "cell_type": "code",
   "execution_count": 216,
   "id": "eceeb3a2",
   "metadata": {},
   "outputs": [],
   "source": [
    "columns_nan = macro.columns[macro.isna().any()].tolist()\n",
    "imputer = SimpleImputer(strategy='mean')\n",
    "macro[columns_nan] = imputer.fit_transform(macro[columns_nan])"
   ]
  },
  {
   "cell_type": "code",
   "execution_count": 217,
   "id": "590f2d89",
   "metadata": {},
   "outputs": [],
   "source": [
    "macro = macro.rename(columns={'timestamp': 'f1'})\n",
    "\n",
    "merged_data = pd.merge(df, macro, on='f1', how='left')\n",
    "df = merged_data\n",
    "\n",
    "merged_data_1 = pd.merge(df_test, macro, on='f1', how='left')\n",
    "df_test = merged_data_1"
   ]
  },
  {
   "cell_type": "code",
   "execution_count": 218,
   "id": "32e0237d",
   "metadata": {},
   "outputs": [],
   "source": [
    "y = df['target']  \n",
    "df = df.drop(['target', 'id'], axis=1)"
   ]
  },
  {
   "cell_type": "code",
   "execution_count": 219,
   "id": "8885c692",
   "metadata": {},
   "outputs": [
    {
     "data": {
      "image/png": "[encoded data removed]",
      "text/plain": [
       "<Figure size 640x480 with 1 Axes>"
      ]
     },
     "metadata": {},
     "output_type": "display_data"
    }
   ],
   "source": [
    "plt.hist(y, bins=20, color='skyblue', edgecolor='black')\n",
    "\n",
    "plt.xlabel('Цена квартиры')\n",
    "plt.ylabel('Частота')\n",
    "plt.title('Распределение целевой переменной')\n",
    "\n",
    "plt.show()"
   ]
  },
  {
   "cell_type": "markdown",
   "id": "7942d2b7",
   "metadata": {},
   "source": [
    "#### `Киллер-фича` №2"
   ]
  },
  {
   "cell_type": "markdown",
   "id": "74b9a896",
   "metadata": {},
   "source": [
    "Предварительное логарифмирование целевой переменной может помочь сделать ее распределение более нормальным, что может улучшить производительность модели. Это может быть особенно полезно, если распределение целевой переменной смещено или имеет тяжелые хвосты"
   ]
  },
  {
   "cell_type": "code",
   "execution_count": 220,
   "id": "a908d1cc",
   "metadata": {},
   "outputs": [],
   "source": [
    "y = np.log1p(y)"
   ]
  },
  {
   "cell_type": "code",
   "execution_count": 221,
   "id": "b634cbea",
   "metadata": {},
   "outputs": [
    {
     "data": {
      "image/png": "[encoded data removed]",
      "text/plain": [
       "<Figure size 640x480 with 1 Axes>"
      ]
     },
     "metadata": {},
     "output_type": "display_data"
    }
   ],
   "source": [
    "plt.hist(y, bins=20, color='skyblue', edgecolor='black')\n",
    "\n",
    "plt.xlabel('Цена квартиры')\n",
    "plt.ylabel('Частота')\n",
    "plt.title('Распределение целевой переменной')\n",
    "\n",
    "plt.show()"
   ]
  },
  {
   "cell_type": "markdown",
   "id": "0f2d8be6",
   "metadata": {},
   "source": [
    "## Препроц"
   ]
  },
  {
   "cell_type": "markdown",
   "id": "abc44b8a",
   "metadata": {},
   "source": [
    "В препроцессинге с `train` и `macro` ничего интересного нет, заполнили пропущенные, перекодировали категориальные, поработали с отдельными колонками, перемаштабировали"
   ]
  },
  {
   "cell_type": "code",
   "execution_count": 222,
   "id": "6ef9019c",
   "metadata": {},
   "outputs": [],
   "source": [
    "mapping = {\n",
    "    'satisfactory': 2,\n",
    "    'poor': 1,\n",
    "    'no data': 0,\n",
    "    'excellent': 4,\n",
    "    'good': 3\n",
    "}\n",
    "df['f153'] = df['f153'].replace(mapping)"
   ]
  },
  {
   "cell_type": "code",
   "execution_count": 223,
   "id": "270bec71",
   "metadata": {},
   "outputs": [],
   "source": [
    "columns_nan = df.columns[df.isna().any()].tolist()\n",
    "imputer = SimpleImputer(strategy='mean')\n",
    "\n",
    "\n",
    "df[columns_nan] = imputer.fit_transform(df[columns_nan])"
   ]
  },
  {
   "cell_type": "code",
   "execution_count": 224,
   "id": "99b5a752",
   "metadata": {},
   "outputs": [],
   "source": [
    "df = df.drop(['f75'], axis=1)"
   ]
  },
  {
   "cell_type": "markdown",
   "id": "dcab5dba",
   "metadata": {},
   "source": [
    "Вся эта чудесная тема с `yearmonth`, `yearweek` и т.д. была позаимствована из каких-то тетрадок с соревнования сбера"
   ]
  },
  {
   "cell_type": "code",
   "execution_count": 225,
   "id": "e28fbc1f",
   "metadata": {},
   "outputs": [],
   "source": [
    "df[\"yearmonth\"] = df[\"f1\"].dt.year*100 + df[\"f1\"].dt.month\n",
    "\n",
    "df[\"yearweek\"] = df[\"f1\"].dt.year*100 + df[\"f1\"].dt.weekofyear\n",
    "\n",
    "df[\"year\"] = df[\"f1\"].dt.year\n",
    "\n",
    "df[\"month_of_year\"] = df[\"f1\"].dt.month\n",
    "\n",
    "df[\"week_of_year\"] = df[\"f1\"].dt.weekofyear\n",
    "\n",
    "df[\"day_of_week\"] = df[\"f1\"].dt.weekday\n",
    "\n",
    "\n",
    "df['f1'] = [pd.to_datetime(date, format='%d.%m.%Y').timestamp() for date in df['f1']]"
   ]
  },
  {
   "cell_type": "code",
   "execution_count": 226,
   "id": "bd255d4f",
   "metadata": {},
   "outputs": [],
   "source": [
    "column_types = df.dtypes\n",
    "\n",
    "categorical_columns = column_types[column_types == 'object'].index.tolist()\n",
    "\n",
    "for col in categorical_columns:\n",
    "    df[col] = LabelEncoder().fit_transform(df[col])"
   ]
  },
  {
   "cell_type": "code",
   "execution_count": 227,
   "id": "12c9f040",
   "metadata": {},
   "outputs": [],
   "source": [
    "scaler = preprocessing.RobustScaler()\n",
    "df = scaler.fit_transform(df.values)"
   ]
  },
  {
   "cell_type": "code",
   "execution_count": 228,
   "id": "82bf5fb5",
   "metadata": {},
   "outputs": [],
   "source": [
    "X_train, X_val, y_train, y_val = train_test_split(df,\n",
    "                                                  y, test_size=0.2, random_state=42)"
   ]
  },
  {
   "cell_type": "markdown",
   "id": "e40e02da",
   "metadata": {},
   "source": [
    "## Autoencoder"
   ]
  },
  {
   "cell_type": "markdown",
   "id": "1b6fc231",
   "metadata": {},
   "source": [
    "Тут всё просто, строим `autoencoder` для сокращения размерности признаков"
   ]
  },
  {
   "cell_type": "code",
   "execution_count": 229,
   "id": "8d6d65a7",
   "metadata": {},
   "outputs": [],
   "source": [
    "class Autoencoder(nn.Module):    \n",
    "    def __init__(self, input_size, hidden_size):\n",
    "        super(Autoencoder, self).__init__()\n",
    "\n",
    "        self.encoder1 = nn.Linear(input_size, 256)\n",
    "        self.encoder2 = nn.Linear(256, 128)\n",
    "        self.encoder3 = nn.Linear(128, 64)\n",
    "\n",
    "        self.decoder1 = nn.Linear(64, 128)\n",
    "        self.decoder2 = nn.Linear(128, 256)\n",
    "        self.decoder3 = nn.Linear(256, input_size)\n",
    "\n",
    "    def encoder(self, x):\n",
    "        x = F.relu(self.encoder1(x))\n",
    "        x = F.relu(self.encoder2(x))\n",
    "        x = F.relu(self.encoder3(x))\n",
    "        return x\n",
    "\n",
    "    def decoder(self, x):\n",
    "        x = F.relu(self.decoder1(x))\n",
    "        x = F.relu(self.decoder2(x))\n",
    "        x = F.relu(self.decoder3(x))\n",
    "        return x\n",
    "\n",
    "    def forward(self, x):\n",
    "        x = self.encoder(x)\n",
    "        x = self.decoder(x)\n",
    "        return x"
   ]
  },
  {
   "cell_type": "code",
   "execution_count": 134,
   "id": "bcc66ab4",
   "metadata": {},
   "outputs": [],
   "source": [
    "latent_dim = 8\n",
    "autoencoder = Autoencoder(input_size=X_train.shape[1], hidden_size=latent_dim)\n",
    "encoded_X_train = autoencoder.encoder(torch.tensor(X_train, dtype=torch.float32)).detach().numpy()\n",
    "encoded_X_val = autoencoder.encoder(torch.tensor(X_val).float()).detach().numpy()"
   ]
  },
  {
   "cell_type": "code",
   "execution_count": 135,
   "id": "57d08369",
   "metadata": {},
   "outputs": [
    {
     "data": {
      "text/plain": [
       "array([[0.        , 0.10929207, 0.        , ..., 0.        , 0.19568649,\n",
       "        0.21861196],\n",
       "       [0.1321752 , 0.        , 0.        , ..., 0.        , 0.04287545,\n",
       "        0.04706204],\n",
       "       [0.        , 0.        , 0.        , ..., 0.        , 7.0089965 ,\n",
       "        6.978273  ],\n",
       "       ...,\n",
       "       [0.0392362 , 0.01023822, 0.        , ..., 0.        , 0.0545504 ,\n",
       "        0.14161378],\n",
       "       [0.10089326, 0.064913  , 0.        , ..., 0.        , 0.0881343 ,\n",
       "        0.23017375],\n",
       "       [0.10887635, 0.04555937, 0.        , ..., 0.03795375, 0.10314162,\n",
       "        0.08714653]], dtype=float32)"
      ]
     },
     "execution_count": 135,
     "metadata": {},
     "output_type": "execute_result"
    }
   ],
   "source": [
    "encoded_X_train"
   ]
  },
  {
   "cell_type": "code",
   "execution_count": 136,
   "id": "8ee9a225",
   "metadata": {},
   "outputs": [],
   "source": [
    "device = torch.device(\"cuda\" if torch.cuda.is_available() else \"cpu\")"
   ]
  },
  {
   "cell_type": "markdown",
   "id": "d4f087e2",
   "metadata": {},
   "source": [
    "Можно много как по-разному играться с архитектурой сетки, но как выяснилось позже это не самое главное"
   ]
  },
  {
   "cell_type": "code",
   "execution_count": 137,
   "id": "4d6c53f1",
   "metadata": {},
   "outputs": [],
   "source": [
    "class Classifier(nn.Module):\n",
    "    def __init__(self, input_size):\n",
    "        super(Classifier, self).__init__()\n",
    "        self.norm = nn.BatchNorm1d(64)\n",
    "        self.fc0 = nn.Linear(input_size, 128)\n",
    "        self.fc1 = nn.Linear(128, 256)\n",
    "        self.fc2 = nn.Linear(256, 1)\n",
    "        self.dropout = nn.Dropout(0.5) \n",
    "\n",
    "    def forward(self, x):\n",
    "        x = self.norm(x)\n",
    "        x = torch.relu(self.fc0(x))\n",
    "        x = self.dropout(x)\n",
    "        x = torch.relu(self.fc1(x))\n",
    "        x = self.dropout(x)\n",
    "        x = torch.relu(self.fc2(x))\n",
    "        return x\n",
    "    \n",
    "    def get_embed(self, x):\n",
    "        x = torch.relu(self.fc0(x))\n",
    "        x = torch.relu(self.fc1(x))\n",
    "        return x\n",
    "\n",
    "\n",
    "model = Classifier(input_size=encoded_X_train.shape[1]).to(device)\n",
    "criterion = nn.MSELoss()\n",
    "\n",
    "optimizer = optim.Adam(model.parameters(), lr=0.01)"
   ]
  },
  {
   "cell_type": "markdown",
   "id": "7dfe3dd5",
   "metadata": {},
   "source": [
    "Можно заметить интересную вещь `get_embed`. Это намёк на следующий этап моего решения!"
   ]
  },
  {
   "cell_type": "code",
   "execution_count": 138,
   "id": "3db085e9",
   "metadata": {},
   "outputs": [],
   "source": [
    "class CustomDataset(Dataset):\n",
    "    def __init__(self, X, y):\n",
    "        self.X = torch.tensor(X, dtype=torch.float32)\n",
    "        self.y = torch.tensor(y, dtype=torch.float32)\n",
    "    \n",
    "    def __len__(self):\n",
    "        return len(self.X)\n",
    "    \n",
    "    def __getitem__(self, idx):\n",
    "        return self.X[idx], self.y[idx]\n",
    "\n",
    "bs = 8\n",
    "\n",
    "train_dataset = CustomDataset(encoded_X_train, y_train.values)\n",
    "train_loader = DataLoader(train_dataset, batch_size=bs, shuffle=True)\n",
    "\n",
    "val_dataset = CustomDataset(encoded_X_val, y_val.values)\n",
    "val_loader = DataLoader(val_dataset, batch_size=bs)"
   ]
  },
  {
   "cell_type": "code",
   "execution_count": 139,
   "id": "ff631e8e",
   "metadata": {},
   "outputs": [
    {
     "name": "stdout",
     "output_type": "stream",
     "text": [
      "Epoch 1/20, Loss: 7.6816\n",
      "Epoch 2/20, Loss: 1.4687\n",
      "Epoch 3/20, Loss: 1.0652\n",
      "Epoch 4/20, Loss: 0.7204\n",
      "Epoch 5/20, Loss: 0.5158\n",
      "Epoch 6/20, Loss: 0.4223\n",
      "Epoch 7/20, Loss: 0.3786\n",
      "Epoch 8/20, Loss: 0.3619\n",
      "Epoch 9/20, Loss: 0.3619\n",
      "Epoch 10/20, Loss: 0.3620\n",
      "Epoch 11/20, Loss: 0.3618\n",
      "Epoch 12/20, Loss: 0.3620\n",
      "Epoch 13/20, Loss: 0.3616\n",
      "Epoch 14/20, Loss: 0.3620\n",
      "Epoch 15/20, Loss: 0.3618\n",
      "Epoch 16/20, Loss: 0.3620\n",
      "Epoch 17/20, Loss: 0.3619\n",
      "Epoch 18/20, Loss: 0.3615\n",
      "Epoch 19/20, Loss: 0.3616\n",
      "Epoch 20/20, Loss: 0.3614\n"
     ]
    }
   ],
   "source": [
    "num_epochs = 20\n",
    "train_losses = []\n",
    "\n",
    "\n",
    "for epoch in range(num_epochs):\n",
    "    embeddings_train = []\n",
    "    y_train_for_emb = []\n",
    "    model.train()\n",
    "    running_loss = 0.0\n",
    "    for inputs, labels in train_loader:\n",
    "        y_train_for_emb.extend(labels)\n",
    "        inputs, labels = inputs.to(device), labels.to(device)\n",
    "        optimizer.zero_grad()\n",
    "        outputs = model(inputs)\n",
    "        loss = criterion(outputs, labels.unsqueeze(1))\n",
    "        loss.backward()\n",
    "        optimizer.step()\n",
    "        running_loss += loss.item() * inputs.size(0)\n",
    "\n",
    "        embeddings = model.get_embed(inputs)\n",
    "        embeddings = [a.detach().cpu().numpy() for a in embeddings]\n",
    "\n",
    "        embeddings_train.extend(embeddings)\n",
    "\n",
    "\n",
    "    epoch_loss = running_loss / len(train_loader.dataset)\n",
    "    train_losses.append(epoch_loss)\n",
    "    print(f\"Epoch {epoch+1}/{num_epochs}, Loss: {epoch_loss:.4f}\")\n",
    "\n",
    "model.eval()\n",
    "val_preds = []\n",
    "val_labels = []\n",
    "embeddings_test = []\n",
    "y_test_for_emb = []\n",
    "\n",
    "with torch.no_grad():\n",
    "    for inputs, labels in val_loader:\n",
    "        y_test_for_emb.extend(labels)\n",
    "        inputs, labels = inputs.to(device), labels.to(device)\n",
    "        outputs = model(inputs)\n",
    "        val_preds.extend(outputs.cpu().numpy())\n",
    "        val_labels.extend(labels.cpu().numpy())\n",
    "\n",
    "        embeddings = model.get_embed(inputs).cpu().numpy()\n",
    "        embeddings_test.extend(embeddings)"
   ]
  },
  {
   "cell_type": "code",
   "execution_count": 140,
   "id": "d705b3a3",
   "metadata": {},
   "outputs": [
    {
     "data": {
      "image/png": "[encoded data removed]",
      "text/plain": [
       "<Figure size 640x480 with 1 Axes>"
      ]
     },
     "metadata": {},
     "output_type": "display_data"
    }
   ],
   "source": [
    "plt.plot(train_losses);"
   ]
  },
  {
   "cell_type": "code",
   "execution_count": null,
   "id": "27344e33",
   "metadata": {},
   "outputs": [],
   "source": []
  },
  {
   "cell_type": "code",
   "execution_count": 141,
   "id": "06cf2b38",
   "metadata": {},
   "outputs": [],
   "source": [
    "X_val_encoded = torch.tensor(encoded_X_val, dtype=torch.float32)"
   ]
  },
  {
   "cell_type": "code",
   "execution_count": 142,
   "id": "33db754f",
   "metadata": {},
   "outputs": [],
   "source": [
    "model.eval()\n",
    "with torch.no_grad():\n",
    "    predictions = model(X_val_encoded)\n",
    "\n",
    "predictions_np = predictions.numpy()"
   ]
  },
  {
   "cell_type": "code",
   "execution_count": 231,
   "id": "862abbd0",
   "metadata": {},
   "outputs": [],
   "source": [
    "from sklearn.metrics import mean_squared_log_error\n",
    "\n",
    "true_labels = y_val.values\n",
    "predictions = predictions_np.flatten()"
   ]
  },
  {
   "cell_type": "markdown",
   "id": "c861c5bb",
   "metadata": {},
   "source": [
    "После того как мы обучили модель на логарифмированных значениях целевой переменной, чтобы получить предсказания для тестового набора данных, нам нужно будет обратно преобразовать предсказанные логарифмы в их исходные значения"
   ]
  },
  {
   "cell_type": "code",
   "execution_count": 232,
   "id": "67e03924",
   "metadata": {},
   "outputs": [],
   "source": [
    "original_predictions = np.expm1(true_labels)\n",
    "preds = np.expm1(predictions)"
   ]
  },
  {
   "cell_type": "code",
   "execution_count": 233,
   "id": "0496859c",
   "metadata": {},
   "outputs": [
    {
     "name": "stdout",
     "output_type": "stream",
     "text": [
      "MSLE: 0.36449225991282974\n"
     ]
    }
   ],
   "source": [
    "msle = mean_squared_log_error(original_predictions, preds)\n",
    "\n",
    "print(\"MSLE:\", msle)"
   ]
  },
  {
   "cell_type": "markdown",
   "id": "d3e8fa18",
   "metadata": {},
   "source": [
    "Можно было бы на этом закончить и довольными пойти предиктить `test`, но есть секретная информация, что нейронки не очень хорошо работают с табличными данными, поэтому надо попробовать на эмбеддингах научить чему-нибудь наш любимый `CatBoost`"
   ]
  },
  {
   "cell_type": "markdown",
   "id": "04a97e01",
   "metadata": {},
   "source": [
    "## CatBoost"
   ]
  },
  {
   "cell_type": "markdown",
   "id": "9bd12e51",
   "metadata": {},
   "source": [
    "#### `Киллер-фича` №3"
   ]
  },
  {
   "cell_type": "code",
   "execution_count": 145,
   "id": "0edeacd1",
   "metadata": {},
   "outputs": [],
   "source": [
    "embeddings_train = np.array(embeddings_train)\n",
    "embeddings_test = np.array(embeddings_test)\n",
    "y_train_for_emb = np.array(y_train_for_emb)"
   ]
  },
  {
   "cell_type": "code",
   "execution_count": 146,
   "id": "02553418",
   "metadata": {},
   "outputs": [],
   "source": [
    "l1 = np.concatenate((embeddings_train, X_train), axis=1)\n",
    "l2 = np.concatenate((embeddings_test, X_val), axis=1)"
   ]
  },
  {
   "cell_type": "markdown",
   "id": "fd0cc628",
   "metadata": {},
   "source": [
    "Изначально я его учил только на эмбеддингах, но это не давало существенного прироста по метрике, поэтому было решено склеить всё это дело с полноценным `train` куском (предобработанным разумеется)"
   ]
  },
  {
   "cell_type": "code",
   "execution_count": 147,
   "id": "50d0c377",
   "metadata": {},
   "outputs": [],
   "source": [
    "from catboost import CatBoostRegressor"
   ]
  },
  {
   "cell_type": "code",
   "execution_count": 148,
   "id": "759f2c59",
   "metadata": {},
   "outputs": [],
   "source": [
    "cb = TransformedTargetRegressor(\n",
    "                        regressor = CatBoostRegressor(iterations=1000,\n",
    "                           learning_rate=0.01,\n",
    "                           depth=11,\n",
    "                           early_stopping_rounds=10,\n",
    "                           random_seed=42,\n",
    "                            verbose = 0)\n",
    "                        ,\n",
    "    transformer = QuantileTransformer(n_quantiles = 1000 , output_distribution = 'normal')\n",
    ")"
   ]
  },
  {
   "cell_type": "code",
   "execution_count": 149,
   "id": "133d9c90",
   "metadata": {
    "scrolled": true
   },
   "outputs": [
    {
     "data": {
      "text/html": [
       "<style>#sk-container-id-3 {\n",
       "  /* Definition of color scheme common for light and dark mode */\n",
       "  --sklearn-color-text: black;\n",
       "  --sklearn-color-line: gray;\n",
       "  /* Definition of color scheme for unfitted estimators */\n",
       "  --sklearn-color-unfitted-level-0: #fff5e6;\n",
       "  --sklearn-color-unfitted-level-1: #f6e4d2;\n",
       "  --sklearn-color-unfitted-level-2: #ffe0b3;\n",
       "  --sklearn-color-unfitted-level-3: chocolate;\n",
       "  /* Definition of color scheme for fitted estimators */\n",
       "  --sklearn-color-fitted-level-0: #f0f8ff;\n",
       "  --sklearn-color-fitted-level-1: #d4ebff;\n",
       "  --sklearn-color-fitted-level-2: #b3dbfd;\n",
       "  --sklearn-color-fitted-level-3: cornflowerblue;\n",
       "\n",
       "  /* Specific color for light theme */\n",
       "  --sklearn-color-text-on-default-background: var(--sg-text-color, var(--theme-code-foreground, var(--jp-content-font-color1, black)));\n",
       "  --sklearn-color-background: var(--sg-background-color, var(--theme-background, var(--jp-layout-color0, white)));\n",
       "  --sklearn-color-border-box: var(--sg-text-color, var(--theme-code-foreground, var(--jp-content-font-color1, black)));\n",
       "  --sklearn-color-icon: #696969;\n",
       "\n",
       "  @media (prefers-color-scheme: dark) {\n",
       "    /* Redefinition of color scheme for dark theme */\n",
       "    --sklearn-color-text-on-default-background: var(--sg-text-color, var(--theme-code-foreground, var(--jp-content-font-color1, white)));\n",
       "    --sklearn-color-background: var(--sg-background-color, var(--theme-background, var(--jp-layout-color0, #111)));\n",
       "    --sklearn-color-border-box: var(--sg-text-color, var(--theme-code-foreground, var(--jp-content-font-color1, white)));\n",
       "    --sklearn-color-icon: #878787;\n",
       "  }\n",
       "}\n",
       "\n",
       "#sk-container-id-3 {\n",
       "  color: var(--sklearn-color-text);\n",
       "}\n",
       "\n",
       "#sk-container-id-3 pre {\n",
       "  padding: 0;\n",
       "}\n",
       "\n",
       "#sk-container-id-3 input.sk-hidden--visually {\n",
       "  border: 0;\n",
       "  clip: rect(1px 1px 1px 1px);\n",
       "  clip: rect(1px, 1px, 1px, 1px);\n",
       "  height: 1px;\n",
       "  margin: -1px;\n",
       "  overflow: hidden;\n",
       "  padding: 0;\n",
       "  position: absolute;\n",
       "  width: 1px;\n",
       "}\n",
       "\n",
       "#sk-container-id-3 div.sk-dashed-wrapped {\n",
       "  border: 1px dashed var(--sklearn-color-line);\n",
       "  margin: 0 0.4em 0.5em 0.4em;\n",
       "  box-sizing: border-box;\n",
       "  padding-bottom: 0.4em;\n",
       "  background-color: var(--sklearn-color-background);\n",
       "}\n",
       "\n",
       "#sk-container-id-3 div.sk-container {\n",
       "  /* jupyter's `normalize.less` sets `[hidden] { display: none; }`\n",
       "     but bootstrap.min.css set `[hidden] { display: none !important; }`\n",
       "     so we also need the `!important` here to be able to override the\n",
       "     default hidden behavior on the sphinx rendered scikit-learn.org.\n",
       "     See: https://github.com/scikit-learn/scikit-learn/issues/21755 */\n",
       "  display: inline-block !important;\n",
       "  position: relative;\n",
       "}\n",
       "\n",
       "#sk-container-id-3 div.sk-text-repr-fallback {\n",
       "  display: none;\n",
       "}\n",
       "\n",
       "div.sk-parallel-item,\n",
       "div.sk-serial,\n",
       "div.sk-item {\n",
       "  /* draw centered vertical line to link estimators */\n",
       "  background-image: linear-gradient(var(--sklearn-color-text-on-default-background), var(--sklearn-color-text-on-default-background));\n",
       "  background-size: 2px 100%;\n",
       "  background-repeat: no-repeat;\n",
       "  background-position: center center;\n",
       "}\n",
       "\n",
       "/* Parallel-specific style estimator block */\n",
       "\n",
       "#sk-container-id-3 div.sk-parallel-item::after {\n",
       "  content: \"\";\n",
       "  width: 100%;\n",
       "  border-bottom: 2px solid var(--sklearn-color-text-on-default-background);\n",
       "  flex-grow: 1;\n",
       "}\n",
       "\n",
       "#sk-container-id-3 div.sk-parallel {\n",
       "  display: flex;\n",
       "  align-items: stretch;\n",
       "  justify-content: center;\n",
       "  background-color: var(--sklearn-color-background);\n",
       "  position: relative;\n",
       "}\n",
       "\n",
       "#sk-container-id-3 div.sk-parallel-item {\n",
       "  display: flex;\n",
       "  flex-direction: column;\n",
       "}\n",
       "\n",
       "#sk-container-id-3 div.sk-parallel-item:first-child::after {\n",
       "  align-self: flex-end;\n",
       "  width: 50%;\n",
       "}\n",
       "\n",
       "#sk-container-id-3 div.sk-parallel-item:last-child::after {\n",
       "  align-self: flex-start;\n",
       "  width: 50%;\n",
       "}\n",
       "\n",
       "#sk-container-id-3 div.sk-parallel-item:only-child::after {\n",
       "  width: 0;\n",
       "}\n",
       "\n",
       "/* Serial-specific style estimator block */\n",
       "\n",
       "#sk-container-id-3 div.sk-serial {\n",
       "  display: flex;\n",
       "  flex-direction: column;\n",
       "  align-items: center;\n",
       "  background-color: var(--sklearn-color-background);\n",
       "  padding-right: 1em;\n",
       "  padding-left: 1em;\n",
       "}\n",
       "\n",
       "\n",
       "/* Toggleable style: style used for estimator/Pipeline/ColumnTransformer box that is\n",
       "clickable and can be expanded/collapsed.\n",
       "- Pipeline and ColumnTransformer use this feature and define the default style\n",
       "- Estimators will overwrite some part of the style using the `sk-estimator` class\n",
       "*/\n",
       "\n",
       "/* Pipeline and ColumnTransformer style (default) */\n",
       "\n",
       "#sk-container-id-3 div.sk-toggleable {\n",
       "  /* Default theme specific background. It is overwritten whether we have a\n",
       "  specific estimator or a Pipeline/ColumnTransformer */\n",
       "  background-color: var(--sklearn-color-background);\n",
       "}\n",
       "\n",
       "/* Toggleable label */\n",
       "#sk-container-id-3 label.sk-toggleable__label {\n",
       "  cursor: pointer;\n",
       "  display: block;\n",
       "  width: 100%;\n",
       "  margin-bottom: 0;\n",
       "  padding: 0.5em;\n",
       "  box-sizing: border-box;\n",
       "  text-align: center;\n",
       "}\n",
       "\n",
       "#sk-container-id-3 label.sk-toggleable__label-arrow:before {\n",
       "  /* Arrow on the left of the label */\n",
       "  content: \"▸\";\n",
       "  float: left;\n",
       "  margin-right: 0.25em;\n",
       "  color: var(--sklearn-color-icon);\n",
       "}\n",
       "\n",
       "#sk-container-id-3 label.sk-toggleable__label-arrow:hover:before {\n",
       "  color: var(--sklearn-color-text);\n",
       "}\n",
       "\n",
       "/* Toggleable content - dropdown */\n",
       "\n",
       "#sk-container-id-3 div.sk-toggleable__content {\n",
       "  max-height: 0;\n",
       "  max-width: 0;\n",
       "  overflow: hidden;\n",
       "  text-align: left;\n",
       "  /* unfitted */\n",
       "  background-color: var(--sklearn-color-unfitted-level-0);\n",
       "}\n",
       "\n",
       "#sk-container-id-3 div.sk-toggleable__content.fitted {\n",
       "  /* fitted */\n",
       "  background-color: var(--sklearn-color-fitted-level-0);\n",
       "}\n",
       "\n",
       "#sk-container-id-3 div.sk-toggleable__content pre {\n",
       "  margin: 0.2em;\n",
       "  border-radius: 0.25em;\n",
       "  color: var(--sklearn-color-text);\n",
       "  /* unfitted */\n",
       "  background-color: var(--sklearn-color-unfitted-level-0);\n",
       "}\n",
       "\n",
       "#sk-container-id-3 div.sk-toggleable__content.fitted pre {\n",
       "  /* unfitted */\n",
       "  background-color: var(--sklearn-color-fitted-level-0);\n",
       "}\n",
       "\n",
       "#sk-container-id-3 input.sk-toggleable__control:checked~div.sk-toggleable__content {\n",
       "  /* Expand drop-down */\n",
       "  max-height: 200px;\n",
       "  max-width: 100%;\n",
       "  overflow: auto;\n",
       "}\n",
       "\n",
       "#sk-container-id-3 input.sk-toggleable__control:checked~label.sk-toggleable__label-arrow:before {\n",
       "  content: \"▾\";\n",
       "}\n",
       "\n",
       "/* Pipeline/ColumnTransformer-specific style */\n",
       "\n",
       "#sk-container-id-3 div.sk-label input.sk-toggleable__control:checked~label.sk-toggleable__label {\n",
       "  color: var(--sklearn-color-text);\n",
       "  background-color: var(--sklearn-color-unfitted-level-2);\n",
       "}\n",
       "\n",
       "#sk-container-id-3 div.sk-label.fitted input.sk-toggleable__control:checked~label.sk-toggleable__label {\n",
       "  background-color: var(--sklearn-color-fitted-level-2);\n",
       "}\n",
       "\n",
       "/* Estimator-specific style */\n",
       "\n",
       "/* Colorize estimator box */\n",
       "#sk-container-id-3 div.sk-estimator input.sk-toggleable__control:checked~label.sk-toggleable__label {\n",
       "  /* unfitted */\n",
       "  background-color: var(--sklearn-color-unfitted-level-2);\n",
       "}\n",
       "\n",
       "#sk-container-id-3 div.sk-estimator.fitted input.sk-toggleable__control:checked~label.sk-toggleable__label {\n",
       "  /* fitted */\n",
       "  background-color: var(--sklearn-color-fitted-level-2);\n",
       "}\n",
       "\n",
       "#sk-container-id-3 div.sk-label label.sk-toggleable__label,\n",
       "#sk-container-id-3 div.sk-label label {\n",
       "  /* The background is the default theme color */\n",
       "  color: var(--sklearn-color-text-on-default-background);\n",
       "}\n",
       "\n",
       "/* On hover, darken the color of the background */\n",
       "#sk-container-id-3 div.sk-label:hover label.sk-toggleable__label {\n",
       "  color: var(--sklearn-color-text);\n",
       "  background-color: var(--sklearn-color-unfitted-level-2);\n",
       "}\n",
       "\n",
       "/* Label box, darken color on hover, fitted */\n",
       "#sk-container-id-3 div.sk-label.fitted:hover label.sk-toggleable__label.fitted {\n",
       "  color: var(--sklearn-color-text);\n",
       "  background-color: var(--sklearn-color-fitted-level-2);\n",
       "}\n",
       "\n",
       "/* Estimator label */\n",
       "\n",
       "#sk-container-id-3 div.sk-label label {\n",
       "  font-family: monospace;\n",
       "  font-weight: bold;\n",
       "  display: inline-block;\n",
       "  line-height: 1.2em;\n",
       "}\n",
       "\n",
       "#sk-container-id-3 div.sk-label-container {\n",
       "  text-align: center;\n",
       "}\n",
       "\n",
       "/* Estimator-specific */\n",
       "#sk-container-id-3 div.sk-estimator {\n",
       "  font-family: monospace;\n",
       "  border: 1px dotted var(--sklearn-color-border-box);\n",
       "  border-radius: 0.25em;\n",
       "  box-sizing: border-box;\n",
       "  margin-bottom: 0.5em;\n",
       "  /* unfitted */\n",
       "  background-color: var(--sklearn-color-unfitted-level-0);\n",
       "}\n",
       "\n",
       "#sk-container-id-3 div.sk-estimator.fitted {\n",
       "  /* fitted */\n",
       "  background-color: var(--sklearn-color-fitted-level-0);\n",
       "}\n",
       "\n",
       "/* on hover */\n",
       "#sk-container-id-3 div.sk-estimator:hover {\n",
       "  /* unfitted */\n",
       "  background-color: var(--sklearn-color-unfitted-level-2);\n",
       "}\n",
       "\n",
       "#sk-container-id-3 div.sk-estimator.fitted:hover {\n",
       "  /* fitted */\n",
       "  background-color: var(--sklearn-color-fitted-level-2);\n",
       "}\n",
       "\n",
       "/* Specification for estimator info (e.g. \"i\" and \"?\") */\n",
       "\n",
       "/* Common style for \"i\" and \"?\" */\n",
       "\n",
       ".sk-estimator-doc-link,\n",
       "a:link.sk-estimator-doc-link,\n",
       "a:visited.sk-estimator-doc-link {\n",
       "  float: right;\n",
       "  font-size: smaller;\n",
       "  line-height: 1em;\n",
       "  font-family: monospace;\n",
       "  background-color: var(--sklearn-color-background);\n",
       "  border-radius: 1em;\n",
       "  height: 1em;\n",
       "  width: 1em;\n",
       "  text-decoration: none !important;\n",
       "  margin-left: 1ex;\n",
       "  /* unfitted */\n",
       "  border: var(--sklearn-color-unfitted-level-1) 1pt solid;\n",
       "  color: var(--sklearn-color-unfitted-level-1);\n",
       "}\n",
       "\n",
       ".sk-estimator-doc-link.fitted,\n",
       "a:link.sk-estimator-doc-link.fitted,\n",
       "a:visited.sk-estimator-doc-link.fitted {\n",
       "  /* fitted */\n",
       "  border: var(--sklearn-color-fitted-level-1) 1pt solid;\n",
       "  color: var(--sklearn-color-fitted-level-1);\n",
       "}\n",
       "\n",
       "/* On hover */\n",
       "div.sk-estimator:hover .sk-estimator-doc-link:hover,\n",
       ".sk-estimator-doc-link:hover,\n",
       "div.sk-label-container:hover .sk-estimator-doc-link:hover,\n",
       ".sk-estimator-doc-link:hover {\n",
       "  /* unfitted */\n",
       "  background-color: var(--sklearn-color-unfitted-level-3);\n",
       "  color: var(--sklearn-color-background);\n",
       "  text-decoration: none;\n",
       "}\n",
       "\n",
       "div.sk-estimator.fitted:hover .sk-estimator-doc-link.fitted:hover,\n",
       ".sk-estimator-doc-link.fitted:hover,\n",
       "div.sk-label-container:hover .sk-estimator-doc-link.fitted:hover,\n",
       ".sk-estimator-doc-link.fitted:hover {\n",
       "  /* fitted */\n",
       "  background-color: var(--sklearn-color-fitted-level-3);\n",
       "  color: var(--sklearn-color-background);\n",
       "  text-decoration: none;\n",
       "}\n",
       "\n",
       "/* Span, style for the box shown on hovering the info icon */\n",
       ".sk-estimator-doc-link span {\n",
       "  display: none;\n",
       "  z-index: 9999;\n",
       "  position: relative;\n",
       "  font-weight: normal;\n",
       "  right: .2ex;\n",
       "  padding: .5ex;\n",
       "  margin: .5ex;\n",
       "  width: min-content;\n",
       "  min-width: 20ex;\n",
       "  max-width: 50ex;\n",
       "  color: var(--sklearn-color-text);\n",
       "  box-shadow: 2pt 2pt 4pt #999;\n",
       "  /* unfitted */\n",
       "  background: var(--sklearn-color-unfitted-level-0);\n",
       "  border: .5pt solid var(--sklearn-color-unfitted-level-3);\n",
       "}\n",
       "\n",
       ".sk-estimator-doc-link.fitted span {\n",
       "  /* fitted */\n",
       "  background: var(--sklearn-color-fitted-level-0);\n",
       "  border: var(--sklearn-color-fitted-level-3);\n",
       "}\n",
       "\n",
       ".sk-estimator-doc-link:hover span {\n",
       "  display: block;\n",
       "}\n",
       "\n",
       "/* \"?\"-specific style due to the `<a>` HTML tag */\n",
       "\n",
       "#sk-container-id-3 a.estimator_doc_link {\n",
       "  float: right;\n",
       "  font-size: 1rem;\n",
       "  line-height: 1em;\n",
       "  font-family: monospace;\n",
       "  background-color: var(--sklearn-color-background);\n",
       "  border-radius: 1rem;\n",
       "  height: 1rem;\n",
       "  width: 1rem;\n",
       "  text-decoration: none;\n",
       "  /* unfitted */\n",
       "  color: var(--sklearn-color-unfitted-level-1);\n",
       "  border: var(--sklearn-color-unfitted-level-1) 1pt solid;\n",
       "}\n",
       "\n",
       "#sk-container-id-3 a.estimator_doc_link.fitted {\n",
       "  /* fitted */\n",
       "  border: var(--sklearn-color-fitted-level-1) 1pt solid;\n",
       "  color: var(--sklearn-color-fitted-level-1);\n",
       "}\n",
       "\n",
       "/* On hover */\n",
       "#sk-container-id-3 a.estimator_doc_link:hover {\n",
       "  /* unfitted */\n",
       "  background-color: var(--sklearn-color-unfitted-level-3);\n",
       "  color: var(--sklearn-color-background);\n",
       "  text-decoration: none;\n",
       "}\n",
       "\n",
       "#sk-container-id-3 a.estimator_doc_link.fitted:hover {\n",
       "  /* fitted */\n",
       "  background-color: var(--sklearn-color-fitted-level-3);\n",
       "}\n",
       "</style><div id=\"sk-container-id-3\" class=\"sk-top-container\"><div class=\"sk-text-repr-fallback\"><pre>TransformedTargetRegressor(regressor=&lt;catboost.core.CatBoostRegressor object at 0x2ac1cc9d0&gt;,\n",
       "                           transformer=QuantileTransformer(output_distribution=&#x27;normal&#x27;))</pre><b>In a Jupyter environment, please rerun this cell to show the HTML representation or trust the notebook. <br />On GitHub, the HTML representation is unable to render, please try loading this page with nbviewer.org.</b></div><div class=\"sk-container\" hidden><div class=\"sk-item sk-dashed-wrapped\"><div class=\"sk-label-container\"><div class=\"sk-label fitted sk-toggleable\"><input class=\"sk-toggleable__control sk-hidden--visually\" id=\"sk-estimator-id-11\" type=\"checkbox\" ><label for=\"sk-estimator-id-11\" class=\"sk-toggleable__label fitted sk-toggleable__label-arrow fitted\">&nbsp;&nbsp;TransformedTargetRegressor<a class=\"sk-estimator-doc-link fitted\" rel=\"noreferrer\" target=\"_blank\" href=\"https://scikit-learn.org/1.4/modules/generated/sklearn.compose.TransformedTargetRegressor.html\">?<span>Documentation for TransformedTargetRegressor</span></a><span class=\"sk-estimator-doc-link fitted\">i<span>Fitted</span></span></label><div class=\"sk-toggleable__content fitted\"><pre>TransformedTargetRegressor(regressor=&lt;catboost.core.CatBoostRegressor object at 0x2ac1cc9d0&gt;,\n",
       "                           transformer=QuantileTransformer(output_distribution=&#x27;normal&#x27;))</pre></div> </div></div><div class=\"sk-parallel\"><div class=\"sk-parallel-item\"><div class=\"sk-item\"><div class=\"sk-label-container\"><div class=\"sk-label fitted sk-toggleable\"><input class=\"sk-toggleable__control sk-hidden--visually\" id=\"sk-estimator-id-12\" type=\"checkbox\" ><label for=\"sk-estimator-id-12\" class=\"sk-toggleable__label fitted sk-toggleable__label-arrow fitted\">regressor: CatBoostRegressor</label><div class=\"sk-toggleable__content fitted\"><pre>&lt;catboost.core.CatBoostRegressor object at 0x2ac1cc9d0&gt;</pre></div> </div></div><div class=\"sk-serial\"><div class=\"sk-item\"><div class=\"sk-estimator fitted sk-toggleable\"><input class=\"sk-toggleable__control sk-hidden--visually\" id=\"sk-estimator-id-13\" type=\"checkbox\" ><label for=\"sk-estimator-id-13\" class=\"sk-toggleable__label fitted sk-toggleable__label-arrow fitted\">CatBoostRegressor</label><div class=\"sk-toggleable__content fitted\"><pre>&lt;catboost.core.CatBoostRegressor object at 0x2ac1cc9d0&gt;</pre></div> </div></div></div></div></div><div class=\"sk-parallel-item\"><div class=\"sk-item\"><div class=\"sk-label-container\"><div class=\"sk-label fitted sk-toggleable\"><input class=\"sk-toggleable__control sk-hidden--visually\" id=\"sk-estimator-id-14\" type=\"checkbox\" ><label for=\"sk-estimator-id-14\" class=\"sk-toggleable__label fitted sk-toggleable__label-arrow fitted\">transformer: QuantileTransformer</label><div class=\"sk-toggleable__content fitted\"><pre>QuantileTransformer(output_distribution=&#x27;normal&#x27;)</pre></div> </div></div><div class=\"sk-serial\"><div class=\"sk-item\"><div class=\"sk-estimator fitted sk-toggleable\"><input class=\"sk-toggleable__control sk-hidden--visually\" id=\"sk-estimator-id-15\" type=\"checkbox\" ><label for=\"sk-estimator-id-15\" class=\"sk-toggleable__label fitted sk-toggleable__label-arrow fitted\">&nbsp;QuantileTransformer<a class=\"sk-estimator-doc-link fitted\" rel=\"noreferrer\" target=\"_blank\" href=\"https://scikit-learn.org/1.4/modules/generated/sklearn.preprocessing.QuantileTransformer.html\">?<span>Documentation for QuantileTransformer</span></a></label><div class=\"sk-toggleable__content fitted\"><pre>QuantileTransformer(output_distribution=&#x27;normal&#x27;)</pre></div> </div></div></div></div></div></div></div></div></div>"
      ],
      "text/plain": [
       "TransformedTargetRegressor(regressor=<catboost.core.CatBoostRegressor object at 0x2ac1cc9d0>,\n",
       "                           transformer=QuantileTransformer(output_distribution='normal'))"
      ]
     },
     "execution_count": 149,
     "metadata": {},
     "output_type": "execute_result"
    }
   ],
   "source": [
    "cb.fit(l1, y_train)"
   ]
  },
  {
   "cell_type": "markdown",
   "id": "00ddb311",
   "metadata": {},
   "source": [
    "Тут тоже обратно преобразовываем предсказанные логарифмы в их исходные значения"
   ]
  },
  {
   "cell_type": "code",
   "execution_count": 152,
   "id": "c58d4822",
   "metadata": {},
   "outputs": [],
   "source": [
    "original_predictions = np.expm1(y_val)\n",
    "preds = np.expm1(y_pred_best)"
   ]
  },
  {
   "cell_type": "code",
   "execution_count": 153,
   "id": "536b0643",
   "metadata": {},
   "outputs": [
    {
     "name": "stdout",
     "output_type": "stream",
     "text": [
      "MSLE: 0.21655429995270925\n"
     ]
    }
   ],
   "source": [
    "msle = mean_squared_log_error(original_predictions, preds)\n",
    "\n",
    "print(\"MSLE:\", msle)"
   ]
  },
  {
   "cell_type": "markdown",
   "id": "8f2bb6ac",
   "metadata": {},
   "source": [
    "Можно увидеть насколько `CatBoost` лучше работает с табличными данными"
   ]
  },
  {
   "cell_type": "markdown",
   "id": "95836270",
   "metadata": {},
   "source": [
    "# Предиктим"
   ]
  },
  {
   "cell_type": "code",
   "execution_count": 237,
   "id": "7d4d0816",
   "metadata": {},
   "outputs": [],
   "source": [
    "df = pd.read_csv('train.csv', sep=';',parse_dates=['f1'])\n",
    "macro = pd.read_csv('macro.csv',parse_dates=['timestamp'])\n",
    "df_test = pd.read_csv('test.csv', sep=';', parse_dates=['f1'])\n",
    "df1 = pd.read_csv('train_2.csv',parse_dates=['timestamp'])\n",
    "# df1 = pd.read_csv('train_without_noise.csv',parse_dates=['timestamp'])\n",
    "nndf = pd.read_csv('train_3.csv', parse_dates=['timestamp'])"
   ]
  },
  {
   "cell_type": "code",
   "execution_count": 238,
   "id": "5dfcfe68",
   "metadata": {},
   "outputs": [],
   "source": [
    "df.drop_duplicates(inplace = True)"
   ]
  },
  {
   "cell_type": "code",
   "execution_count": 239,
   "id": "b71b2e8e",
   "metadata": {},
   "outputs": [],
   "source": [
    "df.dropna(how='all', inplace=True)"
   ]
  },
  {
   "cell_type": "code",
   "execution_count": 240,
   "id": "a2192c34",
   "metadata": {},
   "outputs": [],
   "source": [
    "df1.drop_duplicates(inplace = True)"
   ]
  },
  {
   "cell_type": "code",
   "execution_count": 241,
   "id": "1e900793",
   "metadata": {},
   "outputs": [],
   "source": [
    "df1.dropna(how='all', inplace=True)"
   ]
  },
  {
   "cell_type": "code",
   "execution_count": 242,
   "id": "d8cbae54",
   "metadata": {},
   "outputs": [],
   "source": [
    "nndf.drop_duplicates(inplace = True)"
   ]
  },
  {
   "cell_type": "code",
   "execution_count": 243,
   "id": "679b0ec2",
   "metadata": {},
   "outputs": [],
   "source": [
    "nndf.dropna(how='all', inplace=True)"
   ]
  },
  {
   "cell_type": "markdown",
   "id": "ef895059",
   "metadata": {},
   "source": [
    "## Новый трэйн"
   ]
  },
  {
   "cell_type": "markdown",
   "id": "60fa3368",
   "metadata": {},
   "source": [
    "#### `Киллер-фича` №4"
   ]
  },
  {
   "cell_type": "markdown",
   "id": "bbea5bbf",
   "metadata": {},
   "source": [
    "В том же самом кагловском соревновании от сбера, где мы нашли датасет `macro`, можно изучить и сам `train` (train_2.csv), который там будет чуть по-больше\n",
    "$ => $ От туда можно взять себе ещё данных для обучения."
   ]
  },
  {
   "cell_type": "markdown",
   "id": "550b11fa",
   "metadata": {},
   "source": [
    "Позже, когда место на лидерборде сильно пошатнулось, а что-то сделать хотелось, я понял, что мне нужно больше данных \n",
    "\n",
    "Соу, нашёл какого-то препода, который выложил где-то у себя на гите домашку по ML с похожим датасетом (train_3.csv), но с новыми данными!\n",
    "К сожалению там была только ссылка на скачивание $ - $  [ссылка](https://docs.google.com/uc?export=download&id=1OKFSv2GpuUFDphO0r8LdM7bl6MAWwBfX). Этот датаест вроде как не даёт существенного прироста по метрике, но решил его прикрутить в итоговое решение, круто же звучит $ - $ обучался на 3 датасетах"
   ]
  },
  {
   "cell_type": "markdown",
   "id": "ba1f880e",
   "metadata": {},
   "source": [
    "### Главный вопрос вот в чём"
   ]
  },
  {
   "cell_type": "markdown",
   "id": "4b46e661",
   "metadata": {},
   "source": [
    "<table><tr>\n",
    "<td> <img src=\"https://c.tenor.com/xZMms5TtDVwAAAAd/tenor.gif\" alt=\"Drawing\" style=\"width: 500px;\"/> </td>\n",
    "<td> <img "
   ]
  },
  {
   "cell_type": "markdown",
   "id": "eb2a86a4",
   "metadata": {},
   "source": [
    "Вопрос правда интересный (надеюсь гифку с Дикаприо будет видно)"
   ]
  },
  {
   "cell_type": "markdown",
   "id": "469a8bb1",
   "metadata": {},
   "source": [
    "В общем и целом, такое чувство, что можно бесконечно находить дополнительные данные для обучения на этот датасет"
   ]
  },
  {
   "cell_type": "code",
   "execution_count": 244,
   "id": "57c657a7",
   "metadata": {},
   "outputs": [],
   "source": [
    "df = df.drop(['f75', 'id'], axis=1)\n",
    "df1 = df1.drop(['id'], axis=1)\n",
    "nndf = nndf.drop(['id'], axis=1)"
   ]
  },
  {
   "cell_type": "markdown",
   "id": "0c925b20",
   "metadata": {},
   "source": [
    "Соу, что мы делаем\n",
    "\n",
    "Ищем в большом датасете от сбера те колонки, которые есть только в нём и склеиваем их с нашим, родным датасетом"
   ]
  },
  {
   "cell_type": "code",
   "execution_count": 245,
   "id": "6b4bda39",
   "metadata": {},
   "outputs": [],
   "source": [
    "df1.columns = df.columns"
   ]
  },
  {
   "cell_type": "code",
   "execution_count": 246,
   "id": "50d24383",
   "metadata": {},
   "outputs": [],
   "source": [
    "merged = pd.merge(df1, df, indicator=True, how='outer')\n",
    "\n",
    "# Выбор только тех строк, которые присутствуют только в df1\n",
    "rows_only_in_df1 = merged[merged['_merge'] == 'left_only'].drop(columns=['_merge'])"
   ]
  },
  {
   "cell_type": "code",
   "execution_count": 247,
   "id": "c12e413c",
   "metadata": {},
   "outputs": [],
   "source": [
    "df = pd.concat([df, rows_only_in_df1])"
   ]
  },
  {
   "cell_type": "code",
   "execution_count": 248,
   "id": "c3868694",
   "metadata": {},
   "outputs": [],
   "source": [
    "nndf.columns = df.columns"
   ]
  },
  {
   "cell_type": "code",
   "execution_count": 249,
   "id": "b18c146b",
   "metadata": {},
   "outputs": [],
   "source": [
    "merged = pd.merge(nndf, df, indicator=True, how='outer')\n",
    "\n",
    "# Выбор только тех строк, которые присутствуют только в nndf\n",
    "rows_only_in_nndf = merged[merged['_merge'] == 'left_only'].drop(columns=['_merge'])"
   ]
  },
  {
   "cell_type": "code",
   "execution_count": 250,
   "id": "e9de1ed8",
   "metadata": {},
   "outputs": [],
   "source": [
    "df = pd.concat([df, rows_only_in_nndf])"
   ]
  },
  {
   "cell_type": "code",
   "execution_count": 251,
   "id": "02db69c9",
   "metadata": {},
   "outputs": [],
   "source": [
    "df.drop_duplicates(inplace = True)"
   ]
  },
  {
   "cell_type": "code",
   "execution_count": 252,
   "id": "35c7969e",
   "metadata": {},
   "outputs": [
    {
     "data": {
      "text/plain": [
       "(57389, 291)"
      ]
     },
     "execution_count": 252,
     "metadata": {},
     "output_type": "execute_result"
    }
   ],
   "source": [
    "df.shape"
   ]
  },
  {
   "cell_type": "markdown",
   "id": "8ed96ccb",
   "metadata": {},
   "source": [
    "Дальше делаем всё тоже самое, что и раньше"
   ]
  },
  {
   "cell_type": "markdown",
   "id": "2615e17b",
   "metadata": {},
   "source": [
    "## MACRO"
   ]
  },
  {
   "cell_type": "code",
   "execution_count": 253,
   "id": "2067344c",
   "metadata": {},
   "outputs": [],
   "source": [
    "column_types = macro.dtypes\n",
    "categorical_columns = column_types[column_types == 'object'].index.tolist()\n",
    "macro = macro.drop(categorical_columns, axis=1)\n",
    "\n",
    "columns_nan = macro.columns[macro.isna().any()].tolist()\n",
    "imputer = SimpleImputer(strategy='mean')\n",
    "macro[columns_nan] = imputer.fit_transform(macro[columns_nan])\n",
    "\n",
    "macro = macro.rename(columns={'timestamp': 'f1'})\n",
    "\n",
    "merged_data = pd.merge(df, macro, on='f1', how='left')\n",
    "df = merged_data\n",
    "merged_data_1 = pd.merge(df_test, macro, on='f1', how='left')\n",
    "df_test = merged_data_1"
   ]
  },
  {
   "cell_type": "code",
   "execution_count": 254,
   "id": "766c0361",
   "metadata": {},
   "outputs": [],
   "source": [
    "X = df.drop(['target'], axis=1)\n",
    "y = df['target']\n",
    "\n",
    "test = df_test.drop(['id', 'f75'], axis=1)"
   ]
  },
  {
   "cell_type": "markdown",
   "id": "1c44022c",
   "metadata": {},
   "source": [
    "Решил это просто закоментить. Пробовал метод Бокса-Кокса, но простое логарифмирование выглядит симпатичнее"
   ]
  },
  {
   "cell_type": "code",
   "execution_count": 255,
   "id": "be992ddf",
   "metadata": {},
   "outputs": [],
   "source": [
    "# from scipy.stats import boxcox"
   ]
  },
  {
   "cell_type": "code",
   "execution_count": 256,
   "id": "4966b0a6",
   "metadata": {},
   "outputs": [],
   "source": [
    "# transformed_targets, lambda_value = boxcox(y)"
   ]
  },
  {
   "cell_type": "code",
   "execution_count": 257,
   "id": "ed878fe2",
   "metadata": {},
   "outputs": [],
   "source": [
    "# y = transformed_targets"
   ]
  },
  {
   "cell_type": "code",
   "execution_count": 258,
   "id": "4291401a",
   "metadata": {},
   "outputs": [],
   "source": [
    "y = np.log1p(y)"
   ]
  },
  {
   "cell_type": "code",
   "execution_count": 259,
   "id": "fac4b98f",
   "metadata": {},
   "outputs": [
    {
     "data": {
      "text/plain": [
       "((57389, 386), (4378, 386))"
      ]
     },
     "execution_count": 259,
     "metadata": {},
     "output_type": "execute_result"
    }
   ],
   "source": [
    "X.shape, test.shape"
   ]
  },
  {
   "cell_type": "code",
   "execution_count": 260,
   "id": "90844eb9",
   "metadata": {},
   "outputs": [],
   "source": [
    "X[\"yearmonth\"] = X[\"f1\"].dt.year*100 + X[\"f1\"].dt.month\n",
    "\n",
    "X[\"yearweek\"] = X[\"f1\"].dt.year*100 + X[\"f1\"].dt.weekofyear\n",
    "\n",
    "X[\"year\"] = X[\"f1\"].dt.year\n",
    "\n",
    "X[\"month_of_year\"] = X[\"f1\"].dt.month\n",
    "\n",
    "X[\"week_of_year\"] = X[\"f1\"].dt.weekofyear\n",
    "\n",
    "X[\"day_of_week\"] = X[\"f1\"].dt.weekday\n",
    "\n",
    "####################################################################################################\n",
    "\n",
    "test[\"yearmonth\"] = test[\"f1\"].dt.year*100 + test[\"f1\"].dt.month\n",
    "\n",
    "test[\"yearweek\"] = test[\"f1\"].dt.year*100 + test[\"f1\"].dt.weekofyear\n",
    "\n",
    "test[\"year\"] = test[\"f1\"].dt.year\n",
    "\n",
    "test[\"month_of_year\"] = test[\"f1\"].dt.month\n",
    "\n",
    "test[\"week_of_year\"] = test[\"f1\"].dt.weekofyear\n",
    "\n",
    "test[\"day_of_week\"] = test[\"f1\"].dt.weekday"
   ]
  },
  {
   "cell_type": "markdown",
   "id": "422be475",
   "metadata": {},
   "source": [
    "Тут было принято решение склеить `train` и `test`, чтобы например перемаштабирование проходило максимально полно, если бы мы отдельно такие страшные вещи делели бы с `test` на 4000+ строк, то в конечном итоге модели было бы сложнее интерпретировать предобработанный тестовый кусок"
   ]
  },
  {
   "cell_type": "markdown",
   "id": "7bcbebf0",
   "metadata": {},
   "source": [
    "Обычно всегда раньше делал все такие дела через ColumnTransformer, но как-то в этот раз написал напрямую и решил уже не делать CT"
   ]
  },
  {
   "cell_type": "code",
   "execution_count": 261,
   "id": "d4531d48",
   "metadata": {},
   "outputs": [],
   "source": [
    "df_combined = pd.concat([X, test])"
   ]
  },
  {
   "cell_type": "code",
   "execution_count": 262,
   "id": "55cb4307",
   "metadata": {},
   "outputs": [],
   "source": [
    "mapping = {\n",
    "    'satisfactory': 2,\n",
    "    'poor': 1,\n",
    "    'no data': 0,\n",
    "    'excellent': 4,\n",
    "    'good': 3\n",
    "}\n",
    "df_combined['f153'] = df_combined['f153'].replace(mapping)"
   ]
  },
  {
   "cell_type": "code",
   "execution_count": 263,
   "id": "e863c809",
   "metadata": {},
   "outputs": [],
   "source": [
    "columns_nant = df_combined.columns[df_combined.isna().any()].tolist()\n",
    "\n",
    "imputer = SimpleImputer(strategy='mean')\n",
    "# imputer = SimpleImputer(strategy='median', add_indicator=False)\n",
    "\n",
    "df_combined[columns_nant] = imputer.fit_transform(df_combined[columns_nant])"
   ]
  },
  {
   "cell_type": "code",
   "execution_count": 264,
   "id": "8b2eb74d",
   "metadata": {},
   "outputs": [],
   "source": [
    "df_combined['f1'] = [pd.to_datetime(date, format='%d.%m.%Y').timestamp() for date in df_combined['f1']]"
   ]
  },
  {
   "cell_type": "code",
   "execution_count": 265,
   "id": "55b9e2ec",
   "metadata": {},
   "outputs": [],
   "source": [
    "column_types = df_combined.dtypes\n",
    "categorical_columns = column_types[column_types == 'object'].index.tolist()\n",
    "\n",
    "for col in categorical_columns:\n",
    "    df_combined[col] = LabelEncoder().fit_transform(df_combined[col])"
   ]
  },
  {
   "cell_type": "markdown",
   "id": "ae7a18df",
   "metadata": {},
   "source": [
    "В конце всего этого праздника мы разделяем их обратно"
   ]
  },
  {
   "cell_type": "code",
   "execution_count": 266,
   "id": "1d3bd5ef",
   "metadata": {},
   "outputs": [],
   "source": [
    "df_combined.columns = df_combined.columns.astype(str)\n",
    "\n",
    "scaler = MinMaxScaler()\n",
    "df_combined_scaled = scaler.fit_transform(df_combined)\n",
    "\n",
    "df_scaled = pd.DataFrame(df_combined_scaled[:len(df)]\n",
    "#                          , columns=X.columns\n",
    "                        )\n",
    "df_test_scaled = pd.DataFrame(df_combined_scaled[len(df):]\n",
    "#                               , columns=test.columns\n",
    "                             )"
   ]
  },
  {
   "cell_type": "code",
   "execution_count": 267,
   "id": "8b55f1fc",
   "metadata": {},
   "outputs": [
    {
     "data": {
      "text/plain": [
       "((57389, 392), (4378, 392))"
      ]
     },
     "execution_count": 267,
     "metadata": {},
     "output_type": "execute_result"
    }
   ],
   "source": [
    "df_scaled.shape, df_test_scaled.shape"
   ]
  },
  {
   "cell_type": "code",
   "execution_count": 268,
   "id": "5da3c38d",
   "metadata": {},
   "outputs": [],
   "source": [
    "X = df_scaled.values\n",
    "test = df_test_scaled.values"
   ]
  },
  {
   "cell_type": "markdown",
   "id": "80db2c4c",
   "metadata": {},
   "source": [
    "Дальше всё по намеченному маршруту"
   ]
  },
  {
   "cell_type": "code",
   "execution_count": 189,
   "id": "6f14a194",
   "metadata": {},
   "outputs": [],
   "source": [
    "class Autoencoder(nn.Module):    \n",
    "    def __init__(self, input_size, hidden_size):\n",
    "        super(Autoencoder, self).__init__()\n",
    "\n",
    "        self.encoder1 = nn.Linear(input_size, 256)\n",
    "        self.encoder2 = nn.Linear(256, 128)\n",
    "        self.encoder3 = nn.Linear(128, 64)\n",
    "\n",
    "        self.decoder1 = nn.Linear(64, 128)\n",
    "        self.decoder2 = nn.Linear(128, 256)\n",
    "        self.decoder3 = nn.Linear(256, input_size)\n",
    "\n",
    "    def encoder(self, x):\n",
    "        x = F.relu(self.encoder1(x))\n",
    "        x = F.relu(self.encoder2(x))\n",
    "        x = F.relu(self.encoder3(x))\n",
    "        return x\n",
    "\n",
    "    def decoder(self, x):\n",
    "        x = F.relu(self.decoder1(x))\n",
    "        x = F.relu(self.decoder2(x))\n",
    "        x = F.relu(self.decoder3(x))\n",
    "        return x\n",
    "\n",
    "    def forward(self, x):\n",
    "        x = self.encoder(x)\n",
    "        x = self.decoder(x)\n",
    "        return x"
   ]
  },
  {
   "cell_type": "code",
   "execution_count": 190,
   "id": "19bb6f1a",
   "metadata": {},
   "outputs": [],
   "source": [
    "latent_dim = 1\n",
    "autoencoder = Autoencoder(input_size=X.shape[1], hidden_size=latent_dim) \n",
    "encoded_X = autoencoder.encoder(torch.tensor(X, dtype=torch.float32)).detach().numpy()\n",
    "encoded_test = autoencoder.encoder(torch.tensor(test, dtype=torch.float32)).detach().numpy()\n"
   ]
  },
  {
   "cell_type": "code",
   "execution_count": 191,
   "id": "3ba8290e",
   "metadata": {},
   "outputs": [
    {
     "data": {
      "text/plain": [
       "((57389, 64), (4378, 64))"
      ]
     },
     "execution_count": 191,
     "metadata": {},
     "output_type": "execute_result"
    }
   ],
   "source": [
    "encoded_X.shape, encoded_test.shape"
   ]
  },
  {
   "cell_type": "code",
   "execution_count": 192,
   "id": "623bc13a",
   "metadata": {},
   "outputs": [],
   "source": [
    "device = torch.device(\"cuda\" if torch.cuda.is_available() else \"cpu\")"
   ]
  },
  {
   "cell_type": "code",
   "execution_count": 193,
   "id": "c8324120",
   "metadata": {},
   "outputs": [],
   "source": [
    "class Classifier(nn.Module):\n",
    "    def __init__(self, input_size):\n",
    "        super(Classifier, self).__init__()\n",
    "        self.fc0 = nn.Linear(input_size, 128)\n",
    "        self.fc1 = nn.Linear(128, 256)\n",
    "        self.fc2 = nn.Linear(256, 1)\n",
    "        self.dropout = nn.Dropout(0.5) \n",
    "\n",
    "    def forward(self, x):\n",
    "        x = torch.relu(self.fc0(x))\n",
    "        x = self.dropout(x)\n",
    "        x = torch.relu(self.fc1(x))\n",
    "        x = self.dropout(x)\n",
    "        x = torch.relu(self.fc2(x))\n",
    "        return x\n",
    "    \n",
    "    def get_embed(self, x):\n",
    "        x = torch.relu(self.fc0(x))\n",
    "        x = torch.relu(self.fc1(x))\n",
    "        return x\n",
    "\n",
    "\n",
    "model = Classifier(input_size=encoded_X.shape[1]).to(device)\n",
    "criterion = nn.MSELoss()\n",
    "\n",
    "optimizer = optim.Adam(model.parameters(), lr=0.01)"
   ]
  },
  {
   "cell_type": "code",
   "execution_count": 194,
   "id": "d19e98c2",
   "metadata": {},
   "outputs": [],
   "source": [
    "class CustomDataset(Dataset):\n",
    "    def __init__(self, X, y):\n",
    "        self.X = torch.tensor(X, dtype=torch.float32)\n",
    "        self.y = torch.tensor(y, dtype=torch.float32)\n",
    "    \n",
    "    def __len__(self):\n",
    "        return len(self.X)\n",
    "    \n",
    "    def __getitem__(self, idx):\n",
    "        return self.X[idx], self.y[idx]\n",
    "\n",
    "bs = 8\n",
    "\n",
    "# train_dataset = CustomDataset(encoded_X, y.values)\n",
    "train_dataset = CustomDataset(encoded_X, y)\n",
    "\n",
    "train_loader = DataLoader(train_dataset, batch_size=bs, shuffle=True)\n",
    "\n",
    "# нам без разницы какие тут будут Y\n",
    "# val_dataset = CustomDataset(encoded_test, y.values)\n",
    "val_dataset = CustomDataset(encoded_test, y)\n",
    "\n",
    "val_loader = DataLoader(val_dataset, batch_size=8)"
   ]
  },
  {
   "cell_type": "code",
   "execution_count": 195,
   "id": "cc3b9999",
   "metadata": {},
   "outputs": [
    {
     "name": "stdout",
     "output_type": "stream",
     "text": [
      "Epoch 1/40, Loss: 2.0387\n",
      "Epoch 2/40, Loss: 0.4655\n",
      "Epoch 3/40, Loss: 0.3648\n",
      "Epoch 4/40, Loss: 0.3648\n",
      "Epoch 5/40, Loss: 0.3649\n",
      "Epoch 6/40, Loss: 0.3649\n",
      "Epoch 7/40, Loss: 0.3650\n",
      "Epoch 8/40, Loss: 0.3649\n",
      "Epoch 9/40, Loss: 0.3648\n",
      "Epoch 10/40, Loss: 0.3648\n",
      "Epoch 11/40, Loss: 0.3647\n",
      "Epoch 12/40, Loss: 0.3647\n",
      "Epoch 13/40, Loss: 0.3648\n",
      "Epoch 14/40, Loss: 0.3647\n",
      "Epoch 15/40, Loss: 0.3648\n",
      "Epoch 16/40, Loss: 0.3650\n",
      "Epoch 17/40, Loss: 0.3649\n",
      "Epoch 18/40, Loss: 0.3647\n",
      "Epoch 19/40, Loss: 0.3649\n",
      "Epoch 20/40, Loss: 0.3649\n",
      "Epoch 21/40, Loss: 0.3649\n",
      "Epoch 22/40, Loss: 0.3650\n",
      "Epoch 23/40, Loss: 0.3649\n",
      "Epoch 24/40, Loss: 0.3649\n",
      "Epoch 25/40, Loss: 0.3649\n",
      "Epoch 26/40, Loss: 0.3650\n",
      "Epoch 27/40, Loss: 0.3649\n",
      "Epoch 28/40, Loss: 0.3650\n",
      "Epoch 29/40, Loss: 0.3650\n",
      "Epoch 30/40, Loss: 0.3649\n",
      "Epoch 31/40, Loss: 0.3647\n",
      "Epoch 32/40, Loss: 0.3647\n",
      "Epoch 33/40, Loss: 0.3648\n",
      "Epoch 34/40, Loss: 0.3649\n",
      "Epoch 35/40, Loss: 0.3648\n",
      "Epoch 36/40, Loss: 0.3648\n",
      "Epoch 37/40, Loss: 0.3648\n",
      "Epoch 38/40, Loss: 0.3649\n",
      "Epoch 39/40, Loss: 0.3648\n",
      "Epoch 40/40, Loss: 0.3649\n"
     ]
    }
   ],
   "source": [
    "num_epochs = 40\n",
    "train_losses = []\n",
    "\n",
    "\n",
    "for epoch in range(num_epochs):\n",
    "    embeddings_train = []\n",
    "    y_train_for_emb = []\n",
    "    model.train()\n",
    "    running_loss = 0.0\n",
    "    for inputs, labels in train_loader:\n",
    "        y_train_for_emb.extend(labels)\n",
    "        inputs, labels = inputs.to(device), labels.to(device)\n",
    "        optimizer.zero_grad()\n",
    "        outputs = model(inputs)\n",
    "        loss = criterion(outputs, labels.unsqueeze(1))\n",
    "        loss.backward()\n",
    "        optimizer.step()\n",
    "        running_loss += loss.item() * inputs.size(0)\n",
    "\n",
    "        embeddings = model.get_embed(inputs)\n",
    "        embeddings = [a.detach().cpu().numpy() for a in embeddings]\n",
    "\n",
    "        embeddings_train.extend(embeddings)\n",
    "\n",
    "\n",
    "    epoch_loss = running_loss / len(train_loader.dataset)\n",
    "    train_losses.append(epoch_loss)\n",
    "    print(f\"Epoch {epoch+1}/{num_epochs}, Loss: {epoch_loss:.4f}\")\n",
    "    \n",
    "model.eval()\n",
    "val_preds = []\n",
    "val_labels = []\n",
    "embeddings_test = []\n",
    "y_test_for_emb = []\n",
    "\n",
    "with torch.no_grad():\n",
    "    for inputs, labels in val_loader:\n",
    "        y_test_for_emb.extend(labels)\n",
    "        inputs, labels = inputs.to(device), labels.to(device)\n",
    "        outputs = model(inputs)\n",
    "        val_preds.extend(outputs.cpu().numpy())\n",
    "        val_labels.extend(labels.cpu().numpy())\n",
    "\n",
    "        embeddings = model.get_embed(inputs).cpu().numpy()\n",
    "        embeddings_test.extend(embeddings)"
   ]
  },
  {
   "cell_type": "code",
   "execution_count": 196,
   "id": "418c35f5",
   "metadata": {},
   "outputs": [
    {
     "data": {
      "image/png": "[encoded data removed]",
      "text/plain": [
       "<Figure size 640x480 with 1 Axes>"
      ]
     },
     "metadata": {},
     "output_type": "display_data"
    }
   ],
   "source": [
    "plt.plot(train_losses);"
   ]
  },
  {
   "cell_type": "code",
   "execution_count": 197,
   "id": "80ed1e48",
   "metadata": {},
   "outputs": [],
   "source": [
    "X_val_encoded = torch.tensor(encoded_test, dtype=torch.float32)"
   ]
  },
  {
   "cell_type": "code",
   "execution_count": 198,
   "id": "2fcb4be5",
   "metadata": {},
   "outputs": [],
   "source": [
    "embeddings_train = np.array(embeddings_train)\n",
    "embeddings_test = np.array(embeddings_test)\n",
    "# y_train_for_emb = np.array(y_train_for_emb)"
   ]
  },
  {
   "cell_type": "code",
   "execution_count": 199,
   "id": "c1012c29",
   "metadata": {},
   "outputs": [
    {
     "data": {
      "text/plain": [
       "((57389, 256), (4378, 256))"
      ]
     },
     "execution_count": 199,
     "metadata": {},
     "output_type": "execute_result"
    }
   ],
   "source": [
    "embeddings_train.shape, embeddings_test.shape"
   ]
  },
  {
   "cell_type": "code",
   "execution_count": 200,
   "id": "5de47251",
   "metadata": {},
   "outputs": [],
   "source": [
    "l1 = np.concatenate((embeddings_train, X), axis=1)\n",
    "l2 = np.concatenate((embeddings_test, test), axis=1)"
   ]
  },
  {
   "cell_type": "markdown",
   "id": "63343c41",
   "metadata": {},
   "source": [
    "Параметры подбирались через `optuna`\n",
    "\n",
    "```\n",
    "def objective(trial):\n",
    "    params = {\n",
    "        'iterations': trial.suggest_int('iterations', 100, 1000),\n",
    "        'learning_rate': trial.suggest_loguniform('learning_rate', 0.001, 0.1),\n",
    "        'depth': trial.suggest_int('depth', 3, 10),\n",
    "        'l2_leaf_reg': trial.suggest_loguniform('l2_leaf_reg', 1e-3, 10),\n",
    "        'random_strength': trial.suggest_loguniform('random_strength', 1e-3, 10),\n",
    "        'border_count': trial.suggest_int('border_count', 32, 255),\n",
    "        'bagging_temperature': trial.suggest_loguniform('bagging_temperature', 0.01, 100.00),\n",
    "    }\n",
    "    \n",
    "    model = CatBoostRegressor(**params, verbose=False)\n",
    "    score = -cross_val_score(model, l1, y, cv=3, scoring='neg_mean_squared_log_error').mean()\n",
    "    return score\n",
    "\n",
    "study = optuna.create_study(direction='minimize')\n",
    "study.optimize(objective, n_trials=30)\n",
    "\n",
    "print('Best trial:')\n",
    "trial = study.best_trial\n",
    "print('MSLE:', -trial.value)\n",
    "print(\"Params: \")\n",
    "for key, value in trial.params.items():\n",
    "    print(f'    {key}: {value}')\n",
    "```"
   ]
  },
  {
   "cell_type": "code",
   "execution_count": 234,
   "id": "e2b5069e",
   "metadata": {},
   "outputs": [],
   "source": [
    "from catboost import CatBoostRegressor"
   ]
  },
  {
   "cell_type": "code",
   "execution_count": 202,
   "id": "70dd7c71",
   "metadata": {},
   "outputs": [],
   "source": [
    "best_pipe = TransformedTargetRegressor(\n",
    "                        regressor = CatBoostRegressor(iterations=815,\n",
    "                        learning_rate=0.0978422598491856,\n",
    "                        depth=9,\n",
    "                        l2_leaf_reg =  0.07491748707304052,\n",
    "                        random_strength = 0.010218193328495582,\n",
    "                        border_count = 94, \n",
    "                        bagging_temperature =  0.36855247115393613,                   \n",
    "                        early_stopping_rounds=10,\n",
    "                        random_seed=42,\n",
    "                        verbose = 0)\n",
    "                        ,\n",
    "    transformer = QuantileTransformer(n_quantiles = 1000 , output_distribution = 'normal')\n",
    ")"
   ]
  },
  {
   "cell_type": "code",
   "execution_count": 204,
   "id": "049afc2c",
   "metadata": {},
   "outputs": [
    {
     "data": {
      "text/html": [
       "<style>#sk-container-id-4 {\n",
       "  /* Definition of color scheme common for light and dark mode */\n",
       "  --sklearn-color-text: black;\n",
       "  --sklearn-color-line: gray;\n",
       "  /* Definition of color scheme for unfitted estimators */\n",
       "  --sklearn-color-unfitted-level-0: #fff5e6;\n",
       "  --sklearn-color-unfitted-level-1: #f6e4d2;\n",
       "  --sklearn-color-unfitted-level-2: #ffe0b3;\n",
       "  --sklearn-color-unfitted-level-3: chocolate;\n",
       "  /* Definition of color scheme for fitted estimators */\n",
       "  --sklearn-color-fitted-level-0: #f0f8ff;\n",
       "  --sklearn-color-fitted-level-1: #d4ebff;\n",
       "  --sklearn-color-fitted-level-2: #b3dbfd;\n",
       "  --sklearn-color-fitted-level-3: cornflowerblue;\n",
       "\n",
       "  /* Specific color for light theme */\n",
       "  --sklearn-color-text-on-default-background: var(--sg-text-color, var(--theme-code-foreground, var(--jp-content-font-color1, black)));\n",
       "  --sklearn-color-background: var(--sg-background-color, var(--theme-background, var(--jp-layout-color0, white)));\n",
       "  --sklearn-color-border-box: var(--sg-text-color, var(--theme-code-foreground, var(--jp-content-font-color1, black)));\n",
       "  --sklearn-color-icon: #696969;\n",
       "\n",
       "  @media (prefers-color-scheme: dark) {\n",
       "    /* Redefinition of color scheme for dark theme */\n",
       "    --sklearn-color-text-on-default-background: var(--sg-text-color, var(--theme-code-foreground, var(--jp-content-font-color1, white)));\n",
       "    --sklearn-color-background: var(--sg-background-color, var(--theme-background, var(--jp-layout-color0, #111)));\n",
       "    --sklearn-color-border-box: var(--sg-text-color, var(--theme-code-foreground, var(--jp-content-font-color1, white)));\n",
       "    --sklearn-color-icon: #878787;\n",
       "  }\n",
       "}\n",
       "\n",
       "#sk-container-id-4 {\n",
       "  color: var(--sklearn-color-text);\n",
       "}\n",
       "\n",
       "#sk-container-id-4 pre {\n",
       "  padding: 0;\n",
       "}\n",
       "\n",
       "#sk-container-id-4 input.sk-hidden--visually {\n",
       "  border: 0;\n",
       "  clip: rect(1px 1px 1px 1px);\n",
       "  clip: rect(1px, 1px, 1px, 1px);\n",
       "  height: 1px;\n",
       "  margin: -1px;\n",
       "  overflow: hidden;\n",
       "  padding: 0;\n",
       "  position: absolute;\n",
       "  width: 1px;\n",
       "}\n",
       "\n",
       "#sk-container-id-4 div.sk-dashed-wrapped {\n",
       "  border: 1px dashed var(--sklearn-color-line);\n",
       "  margin: 0 0.4em 0.5em 0.4em;\n",
       "  box-sizing: border-box;\n",
       "  padding-bottom: 0.4em;\n",
       "  background-color: var(--sklearn-color-background);\n",
       "}\n",
       "\n",
       "#sk-container-id-4 div.sk-container {\n",
       "  /* jupyter's `normalize.less` sets `[hidden] { display: none; }`\n",
       "     but bootstrap.min.css set `[hidden] { display: none !important; }`\n",
       "     so we also need the `!important` here to be able to override the\n",
       "     default hidden behavior on the sphinx rendered scikit-learn.org.\n",
       "     See: https://github.com/scikit-learn/scikit-learn/issues/21755 */\n",
       "  display: inline-block !important;\n",
       "  position: relative;\n",
       "}\n",
       "\n",
       "#sk-container-id-4 div.sk-text-repr-fallback {\n",
       "  display: none;\n",
       "}\n",
       "\n",
       "div.sk-parallel-item,\n",
       "div.sk-serial,\n",
       "div.sk-item {\n",
       "  /* draw centered vertical line to link estimators */\n",
       "  background-image: linear-gradient(var(--sklearn-color-text-on-default-background), var(--sklearn-color-text-on-default-background));\n",
       "  background-size: 2px 100%;\n",
       "  background-repeat: no-repeat;\n",
       "  background-position: center center;\n",
       "}\n",
       "\n",
       "/* Parallel-specific style estimator block */\n",
       "\n",
       "#sk-container-id-4 div.sk-parallel-item::after {\n",
       "  content: \"\";\n",
       "  width: 100%;\n",
       "  border-bottom: 2px solid var(--sklearn-color-text-on-default-background);\n",
       "  flex-grow: 1;\n",
       "}\n",
       "\n",
       "#sk-container-id-4 div.sk-parallel {\n",
       "  display: flex;\n",
       "  align-items: stretch;\n",
       "  justify-content: center;\n",
       "  background-color: var(--sklearn-color-background);\n",
       "  position: relative;\n",
       "}\n",
       "\n",
       "#sk-container-id-4 div.sk-parallel-item {\n",
       "  display: flex;\n",
       "  flex-direction: column;\n",
       "}\n",
       "\n",
       "#sk-container-id-4 div.sk-parallel-item:first-child::after {\n",
       "  align-self: flex-end;\n",
       "  width: 50%;\n",
       "}\n",
       "\n",
       "#sk-container-id-4 div.sk-parallel-item:last-child::after {\n",
       "  align-self: flex-start;\n",
       "  width: 50%;\n",
       "}\n",
       "\n",
       "#sk-container-id-4 div.sk-parallel-item:only-child::after {\n",
       "  width: 0;\n",
       "}\n",
       "\n",
       "/* Serial-specific style estimator block */\n",
       "\n",
       "#sk-container-id-4 div.sk-serial {\n",
       "  display: flex;\n",
       "  flex-direction: column;\n",
       "  align-items: center;\n",
       "  background-color: var(--sklearn-color-background);\n",
       "  padding-right: 1em;\n",
       "  padding-left: 1em;\n",
       "}\n",
       "\n",
       "\n",
       "/* Toggleable style: style used for estimator/Pipeline/ColumnTransformer box that is\n",
       "clickable and can be expanded/collapsed.\n",
       "- Pipeline and ColumnTransformer use this feature and define the default style\n",
       "- Estimators will overwrite some part of the style using the `sk-estimator` class\n",
       "*/\n",
       "\n",
       "/* Pipeline and ColumnTransformer style (default) */\n",
       "\n",
       "#sk-container-id-4 div.sk-toggleable {\n",
       "  /* Default theme specific background. It is overwritten whether we have a\n",
       "  specific estimator or a Pipeline/ColumnTransformer */\n",
       "  background-color: var(--sklearn-color-background);\n",
       "}\n",
       "\n",
       "/* Toggleable label */\n",
       "#sk-container-id-4 label.sk-toggleable__label {\n",
       "  cursor: pointer;\n",
       "  display: block;\n",
       "  width: 100%;\n",
       "  margin-bottom: 0;\n",
       "  padding: 0.5em;\n",
       "  box-sizing: border-box;\n",
       "  text-align: center;\n",
       "}\n",
       "\n",
       "#sk-container-id-4 label.sk-toggleable__label-arrow:before {\n",
       "  /* Arrow on the left of the label */\n",
       "  content: \"▸\";\n",
       "  float: left;\n",
       "  margin-right: 0.25em;\n",
       "  color: var(--sklearn-color-icon);\n",
       "}\n",
       "\n",
       "#sk-container-id-4 label.sk-toggleable__label-arrow:hover:before {\n",
       "  color: var(--sklearn-color-text);\n",
       "}\n",
       "\n",
       "/* Toggleable content - dropdown */\n",
       "\n",
       "#sk-container-id-4 div.sk-toggleable__content {\n",
       "  max-height: 0;\n",
       "  max-width: 0;\n",
       "  overflow: hidden;\n",
       "  text-align: left;\n",
       "  /* unfitted */\n",
       "  background-color: var(--sklearn-color-unfitted-level-0);\n",
       "}\n",
       "\n",
       "#sk-container-id-4 div.sk-toggleable__content.fitted {\n",
       "  /* fitted */\n",
       "  background-color: var(--sklearn-color-fitted-level-0);\n",
       "}\n",
       "\n",
       "#sk-container-id-4 div.sk-toggleable__content pre {\n",
       "  margin: 0.2em;\n",
       "  border-radius: 0.25em;\n",
       "  color: var(--sklearn-color-text);\n",
       "  /* unfitted */\n",
       "  background-color: var(--sklearn-color-unfitted-level-0);\n",
       "}\n",
       "\n",
       "#sk-container-id-4 div.sk-toggleable__content.fitted pre {\n",
       "  /* unfitted */\n",
       "  background-color: var(--sklearn-color-fitted-level-0);\n",
       "}\n",
       "\n",
       "#sk-container-id-4 input.sk-toggleable__control:checked~div.sk-toggleable__content {\n",
       "  /* Expand drop-down */\n",
       "  max-height: 200px;\n",
       "  max-width: 100%;\n",
       "  overflow: auto;\n",
       "}\n",
       "\n",
       "#sk-container-id-4 input.sk-toggleable__control:checked~label.sk-toggleable__label-arrow:before {\n",
       "  content: \"▾\";\n",
       "}\n",
       "\n",
       "/* Pipeline/ColumnTransformer-specific style */\n",
       "\n",
       "#sk-container-id-4 div.sk-label input.sk-toggleable__control:checked~label.sk-toggleable__label {\n",
       "  color: var(--sklearn-color-text);\n",
       "  background-color: var(--sklearn-color-unfitted-level-2);\n",
       "}\n",
       "\n",
       "#sk-container-id-4 div.sk-label.fitted input.sk-toggleable__control:checked~label.sk-toggleable__label {\n",
       "  background-color: var(--sklearn-color-fitted-level-2);\n",
       "}\n",
       "\n",
       "/* Estimator-specific style */\n",
       "\n",
       "/* Colorize estimator box */\n",
       "#sk-container-id-4 div.sk-estimator input.sk-toggleable__control:checked~label.sk-toggleable__label {\n",
       "  /* unfitted */\n",
       "  background-color: var(--sklearn-color-unfitted-level-2);\n",
       "}\n",
       "\n",
       "#sk-container-id-4 div.sk-estimator.fitted input.sk-toggleable__control:checked~label.sk-toggleable__label {\n",
       "  /* fitted */\n",
       "  background-color: var(--sklearn-color-fitted-level-2);\n",
       "}\n",
       "\n",
       "#sk-container-id-4 div.sk-label label.sk-toggleable__label,\n",
       "#sk-container-id-4 div.sk-label label {\n",
       "  /* The background is the default theme color */\n",
       "  color: var(--sklearn-color-text-on-default-background);\n",
       "}\n",
       "\n",
       "/* On hover, darken the color of the background */\n",
       "#sk-container-id-4 div.sk-label:hover label.sk-toggleable__label {\n",
       "  color: var(--sklearn-color-text);\n",
       "  background-color: var(--sklearn-color-unfitted-level-2);\n",
       "}\n",
       "\n",
       "/* Label box, darken color on hover, fitted */\n",
       "#sk-container-id-4 div.sk-label.fitted:hover label.sk-toggleable__label.fitted {\n",
       "  color: var(--sklearn-color-text);\n",
       "  background-color: var(--sklearn-color-fitted-level-2);\n",
       "}\n",
       "\n",
       "/* Estimator label */\n",
       "\n",
       "#sk-container-id-4 div.sk-label label {\n",
       "  font-family: monospace;\n",
       "  font-weight: bold;\n",
       "  display: inline-block;\n",
       "  line-height: 1.2em;\n",
       "}\n",
       "\n",
       "#sk-container-id-4 div.sk-label-container {\n",
       "  text-align: center;\n",
       "}\n",
       "\n",
       "/* Estimator-specific */\n",
       "#sk-container-id-4 div.sk-estimator {\n",
       "  font-family: monospace;\n",
       "  border: 1px dotted var(--sklearn-color-border-box);\n",
       "  border-radius: 0.25em;\n",
       "  box-sizing: border-box;\n",
       "  margin-bottom: 0.5em;\n",
       "  /* unfitted */\n",
       "  background-color: var(--sklearn-color-unfitted-level-0);\n",
       "}\n",
       "\n",
       "#sk-container-id-4 div.sk-estimator.fitted {\n",
       "  /* fitted */\n",
       "  background-color: var(--sklearn-color-fitted-level-0);\n",
       "}\n",
       "\n",
       "/* on hover */\n",
       "#sk-container-id-4 div.sk-estimator:hover {\n",
       "  /* unfitted */\n",
       "  background-color: var(--sklearn-color-unfitted-level-2);\n",
       "}\n",
       "\n",
       "#sk-container-id-4 div.sk-estimator.fitted:hover {\n",
       "  /* fitted */\n",
       "  background-color: var(--sklearn-color-fitted-level-2);\n",
       "}\n",
       "\n",
       "/* Specification for estimator info (e.g. \"i\" and \"?\") */\n",
       "\n",
       "/* Common style for \"i\" and \"?\" */\n",
       "\n",
       ".sk-estimator-doc-link,\n",
       "a:link.sk-estimator-doc-link,\n",
       "a:visited.sk-estimator-doc-link {\n",
       "  float: right;\n",
       "  font-size: smaller;\n",
       "  line-height: 1em;\n",
       "  font-family: monospace;\n",
       "  background-color: var(--sklearn-color-background);\n",
       "  border-radius: 1em;\n",
       "  height: 1em;\n",
       "  width: 1em;\n",
       "  text-decoration: none !important;\n",
       "  margin-left: 1ex;\n",
       "  /* unfitted */\n",
       "  border: var(--sklearn-color-unfitted-level-1) 1pt solid;\n",
       "  color: var(--sklearn-color-unfitted-level-1);\n",
       "}\n",
       "\n",
       ".sk-estimator-doc-link.fitted,\n",
       "a:link.sk-estimator-doc-link.fitted,\n",
       "a:visited.sk-estimator-doc-link.fitted {\n",
       "  /* fitted */\n",
       "  border: var(--sklearn-color-fitted-level-1) 1pt solid;\n",
       "  color: var(--sklearn-color-fitted-level-1);\n",
       "}\n",
       "\n",
       "/* On hover */\n",
       "div.sk-estimator:hover .sk-estimator-doc-link:hover,\n",
       ".sk-estimator-doc-link:hover,\n",
       "div.sk-label-container:hover .sk-estimator-doc-link:hover,\n",
       ".sk-estimator-doc-link:hover {\n",
       "  /* unfitted */\n",
       "  background-color: var(--sklearn-color-unfitted-level-3);\n",
       "  color: var(--sklearn-color-background);\n",
       "  text-decoration: none;\n",
       "}\n",
       "\n",
       "div.sk-estimator.fitted:hover .sk-estimator-doc-link.fitted:hover,\n",
       ".sk-estimator-doc-link.fitted:hover,\n",
       "div.sk-label-container:hover .sk-estimator-doc-link.fitted:hover,\n",
       ".sk-estimator-doc-link.fitted:hover {\n",
       "  /* fitted */\n",
       "  background-color: var(--sklearn-color-fitted-level-3);\n",
       "  color: var(--sklearn-color-background);\n",
       "  text-decoration: none;\n",
       "}\n",
       "\n",
       "/* Span, style for the box shown on hovering the info icon */\n",
       ".sk-estimator-doc-link span {\n",
       "  display: none;\n",
       "  z-index: 9999;\n",
       "  position: relative;\n",
       "  font-weight: normal;\n",
       "  right: .2ex;\n",
       "  padding: .5ex;\n",
       "  margin: .5ex;\n",
       "  width: min-content;\n",
       "  min-width: 20ex;\n",
       "  max-width: 50ex;\n",
       "  color: var(--sklearn-color-text);\n",
       "  box-shadow: 2pt 2pt 4pt #999;\n",
       "  /* unfitted */\n",
       "  background: var(--sklearn-color-unfitted-level-0);\n",
       "  border: .5pt solid var(--sklearn-color-unfitted-level-3);\n",
       "}\n",
       "\n",
       ".sk-estimator-doc-link.fitted span {\n",
       "  /* fitted */\n",
       "  background: var(--sklearn-color-fitted-level-0);\n",
       "  border: var(--sklearn-color-fitted-level-3);\n",
       "}\n",
       "\n",
       ".sk-estimator-doc-link:hover span {\n",
       "  display: block;\n",
       "}\n",
       "\n",
       "/* \"?\"-specific style due to the `<a>` HTML tag */\n",
       "\n",
       "#sk-container-id-4 a.estimator_doc_link {\n",
       "  float: right;\n",
       "  font-size: 1rem;\n",
       "  line-height: 1em;\n",
       "  font-family: monospace;\n",
       "  background-color: var(--sklearn-color-background);\n",
       "  border-radius: 1rem;\n",
       "  height: 1rem;\n",
       "  width: 1rem;\n",
       "  text-decoration: none;\n",
       "  /* unfitted */\n",
       "  color: var(--sklearn-color-unfitted-level-1);\n",
       "  border: var(--sklearn-color-unfitted-level-1) 1pt solid;\n",
       "}\n",
       "\n",
       "#sk-container-id-4 a.estimator_doc_link.fitted {\n",
       "  /* fitted */\n",
       "  border: var(--sklearn-color-fitted-level-1) 1pt solid;\n",
       "  color: var(--sklearn-color-fitted-level-1);\n",
       "}\n",
       "\n",
       "/* On hover */\n",
       "#sk-container-id-4 a.estimator_doc_link:hover {\n",
       "  /* unfitted */\n",
       "  background-color: var(--sklearn-color-unfitted-level-3);\n",
       "  color: var(--sklearn-color-background);\n",
       "  text-decoration: none;\n",
       "}\n",
       "\n",
       "#sk-container-id-4 a.estimator_doc_link.fitted:hover {\n",
       "  /* fitted */\n",
       "  background-color: var(--sklearn-color-fitted-level-3);\n",
       "}\n",
       "</style><div id=\"sk-container-id-4\" class=\"sk-top-container\"><div class=\"sk-text-repr-fallback\"><pre>TransformedTargetRegressor(regressor=&lt;catboost.core.CatBoostRegressor object at 0x2a9b2a850&gt;,\n",
       "                           transformer=QuantileTransformer(output_distribution=&#x27;normal&#x27;))</pre><b>In a Jupyter environment, please rerun this cell to show the HTML representation or trust the notebook. <br />On GitHub, the HTML representation is unable to render, please try loading this page with nbviewer.org.</b></div><div class=\"sk-container\" hidden><div class=\"sk-item sk-dashed-wrapped\"><div class=\"sk-label-container\"><div class=\"sk-label fitted sk-toggleable\"><input class=\"sk-toggleable__control sk-hidden--visually\" id=\"sk-estimator-id-16\" type=\"checkbox\" ><label for=\"sk-estimator-id-16\" class=\"sk-toggleable__label fitted sk-toggleable__label-arrow fitted\">&nbsp;&nbsp;TransformedTargetRegressor<a class=\"sk-estimator-doc-link fitted\" rel=\"noreferrer\" target=\"_blank\" href=\"https://scikit-learn.org/1.4/modules/generated/sklearn.compose.TransformedTargetRegressor.html\">?<span>Documentation for TransformedTargetRegressor</span></a><span class=\"sk-estimator-doc-link fitted\">i<span>Fitted</span></span></label><div class=\"sk-toggleable__content fitted\"><pre>TransformedTargetRegressor(regressor=&lt;catboost.core.CatBoostRegressor object at 0x2a9b2a850&gt;,\n",
       "                           transformer=QuantileTransformer(output_distribution=&#x27;normal&#x27;))</pre></div> </div></div><div class=\"sk-parallel\"><div class=\"sk-parallel-item\"><div class=\"sk-item\"><div class=\"sk-label-container\"><div class=\"sk-label fitted sk-toggleable\"><input class=\"sk-toggleable__control sk-hidden--visually\" id=\"sk-estimator-id-17\" type=\"checkbox\" ><label for=\"sk-estimator-id-17\" class=\"sk-toggleable__label fitted sk-toggleable__label-arrow fitted\">regressor: CatBoostRegressor</label><div class=\"sk-toggleable__content fitted\"><pre>&lt;catboost.core.CatBoostRegressor object at 0x2a9b2a850&gt;</pre></div> </div></div><div class=\"sk-serial\"><div class=\"sk-item\"><div class=\"sk-estimator fitted sk-toggleable\"><input class=\"sk-toggleable__control sk-hidden--visually\" id=\"sk-estimator-id-18\" type=\"checkbox\" ><label for=\"sk-estimator-id-18\" class=\"sk-toggleable__label fitted sk-toggleable__label-arrow fitted\">CatBoostRegressor</label><div class=\"sk-toggleable__content fitted\"><pre>&lt;catboost.core.CatBoostRegressor object at 0x2a9b2a850&gt;</pre></div> </div></div></div></div></div><div class=\"sk-parallel-item\"><div class=\"sk-item\"><div class=\"sk-label-container\"><div class=\"sk-label fitted sk-toggleable\"><input class=\"sk-toggleable__control sk-hidden--visually\" id=\"sk-estimator-id-19\" type=\"checkbox\" ><label for=\"sk-estimator-id-19\" class=\"sk-toggleable__label fitted sk-toggleable__label-arrow fitted\">transformer: QuantileTransformer</label><div class=\"sk-toggleable__content fitted\"><pre>QuantileTransformer(output_distribution=&#x27;normal&#x27;)</pre></div> </div></div><div class=\"sk-serial\"><div class=\"sk-item\"><div class=\"sk-estimator fitted sk-toggleable\"><input class=\"sk-toggleable__control sk-hidden--visually\" id=\"sk-estimator-id-20\" type=\"checkbox\" ><label for=\"sk-estimator-id-20\" class=\"sk-toggleable__label fitted sk-toggleable__label-arrow fitted\">&nbsp;QuantileTransformer<a class=\"sk-estimator-doc-link fitted\" rel=\"noreferrer\" target=\"_blank\" href=\"https://scikit-learn.org/1.4/modules/generated/sklearn.preprocessing.QuantileTransformer.html\">?<span>Documentation for QuantileTransformer</span></a></label><div class=\"sk-toggleable__content fitted\"><pre>QuantileTransformer(output_distribution=&#x27;normal&#x27;)</pre></div> </div></div></div></div></div></div></div></div></div>"
      ],
      "text/plain": [
       "TransformedTargetRegressor(regressor=<catboost.core.CatBoostRegressor object at 0x2a9b2a850>,\n",
       "                           transformer=QuantileTransformer(output_distribution='normal'))"
      ]
     },
     "execution_count": 204,
     "metadata": {},
     "output_type": "execute_result"
    }
   ],
   "source": [
    "best_pipe.fit(l1, y)"
   ]
  },
  {
   "cell_type": "code",
   "execution_count": 205,
   "id": "b3bbaaaa",
   "metadata": {},
   "outputs": [],
   "source": [
    "y_pred_best = best_pipe.predict(l2)"
   ]
  },
  {
   "cell_type": "code",
   "execution_count": 206,
   "id": "14b49a81",
   "metadata": {},
   "outputs": [],
   "source": [
    "# from scipy.special import inv_boxcox"
   ]
  },
  {
   "cell_type": "code",
   "execution_count": 207,
   "id": "a802d487",
   "metadata": {},
   "outputs": [],
   "source": [
    "# original_predictions = inv_boxcox(y_pred_best, lambda_value)"
   ]
  },
  {
   "cell_type": "code",
   "execution_count": 208,
   "id": "ff26a189",
   "metadata": {},
   "outputs": [],
   "source": [
    "original_predictions = np.expm1(y_pred_best)"
   ]
  },
  {
   "cell_type": "code",
   "execution_count": 209,
   "id": "72db806d",
   "metadata": {},
   "outputs": [
    {
     "data": {
      "text/html": [
       "<div>\n",
       "<style scoped>\n",
       "    .dataframe tbody tr th:only-of-type {\n",
       "        vertical-align: middle;\n",
       "    }\n",
       "\n",
       "    .dataframe tbody tr th {\n",
       "        vertical-align: top;\n",
       "    }\n",
       "\n",
       "    .dataframe thead th {\n",
       "        text-align: right;\n",
       "    }\n",
       "</style>\n",
       "<table border=\"1\" class=\"dataframe\">\n",
       "  <thead>\n",
       "    <tr style=\"text-align: right;\">\n",
       "      <th></th>\n",
       "      <th>id</th>\n",
       "      <th>prediction</th>\n",
       "    </tr>\n",
       "  </thead>\n",
       "  <tbody>\n",
       "    <tr>\n",
       "      <th>0</th>\n",
       "      <td>19999</td>\n",
       "      <td>2.000000e+06</td>\n",
       "    </tr>\n",
       "    <tr>\n",
       "      <th>1</th>\n",
       "      <td>20000</td>\n",
       "      <td>6.738760e+06</td>\n",
       "    </tr>\n",
       "    <tr>\n",
       "      <th>2</th>\n",
       "      <td>20001</td>\n",
       "      <td>5.455874e+06</td>\n",
       "    </tr>\n",
       "    <tr>\n",
       "      <th>3</th>\n",
       "      <td>20002</td>\n",
       "      <td>5.753743e+06</td>\n",
       "    </tr>\n",
       "    <tr>\n",
       "      <th>4</th>\n",
       "      <td>20003</td>\n",
       "      <td>7.066610e+06</td>\n",
       "    </tr>\n",
       "    <tr>\n",
       "      <th>...</th>\n",
       "      <td>...</td>\n",
       "      <td>...</td>\n",
       "    </tr>\n",
       "    <tr>\n",
       "      <th>4373</th>\n",
       "      <td>24372</td>\n",
       "      <td>1.398078e+07</td>\n",
       "    </tr>\n",
       "    <tr>\n",
       "      <th>4374</th>\n",
       "      <td>24373</td>\n",
       "      <td>5.271834e+06</td>\n",
       "    </tr>\n",
       "    <tr>\n",
       "      <th>4375</th>\n",
       "      <td>24374</td>\n",
       "      <td>5.850000e+06</td>\n",
       "    </tr>\n",
       "    <tr>\n",
       "      <th>4376</th>\n",
       "      <td>24375</td>\n",
       "      <td>6.750000e+06</td>\n",
       "    </tr>\n",
       "    <tr>\n",
       "      <th>4377</th>\n",
       "      <td>24376</td>\n",
       "      <td>3.500020e+06</td>\n",
       "    </tr>\n",
       "  </tbody>\n",
       "</table>\n",
       "<p>4378 rows × 2 columns</p>\n",
       "</div>"
      ],
      "text/plain": [
       "         id    prediction\n",
       "0     19999  2.000000e+06\n",
       "1     20000  6.738760e+06\n",
       "2     20001  5.455874e+06\n",
       "3     20002  5.753743e+06\n",
       "4     20003  7.066610e+06\n",
       "...     ...           ...\n",
       "4373  24372  1.398078e+07\n",
       "4374  24373  5.271834e+06\n",
       "4375  24374  5.850000e+06\n",
       "4376  24375  6.750000e+06\n",
       "4377  24376  3.500020e+06\n",
       "\n",
       "[4378 rows x 2 columns]"
      ]
     },
     "execution_count": 209,
     "metadata": {},
     "output_type": "execute_result"
    }
   ],
   "source": [
    "sub_cb = pd.read_csv('sample_submission.csv')\n",
    "sub_cb['prediction'] = original_predictions\n",
    "sub_cb"
   ]
  },
  {
   "cell_type": "code",
   "execution_count": 210,
   "id": "4148a728",
   "metadata": {},
   "outputs": [],
   "source": [
    "sub_cb.to_csv('79_blin_komom.csv', index = False)"
   ]
  },
  {
   "cell_type": "markdown",
   "id": "44a1cdb3",
   "metadata": {},
   "source": [
    "### [Тут](https://dlhomeworkdashboard-eaguyxmxdffwvvhnrif82t.streamlit.app) можно посмотреть интерактивную визуализацию предиктов) "
   ]
  },
  {
   "cell_type": "markdown",
   "id": "84521b90",
   "metadata": {},
   "source": [
    "P.s.\n",
    "\n",
    "есть шанс, что streamlit ляжет к моменту проверки ноутбука, но всегда можно написать в тех поддержку (мне)"
   ]
  },
  {
   "cell_type": "markdown",
   "id": "bd1a6852",
   "metadata": {},
   "source": [
    "# Конец! Спасибо за внимание! Ставьте лайки, пишите комментарии!"
   ]
  }
 ],
 "metadata": {
  "kernelspec": {
   "display_name": "Python 3 (ipykernel)",
   "language": "python",
   "name": "python3"
  },
  "language_info": {
   "codemirror_mode": {
    "name": "ipython",
    "version": 3
   },
   "file_extension": ".py",
   "mimetype": "text/x-python",
   "name": "python",
   "nbconvert_exporter": "python",
   "pygments_lexer": "ipython3",
   "version": "3.11.5"
  }
 },
 "nbformat": 4,
 "nbformat_minor": 5
}
